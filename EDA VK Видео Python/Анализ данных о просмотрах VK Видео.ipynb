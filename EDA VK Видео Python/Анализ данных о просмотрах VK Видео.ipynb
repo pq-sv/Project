{
 "cells": [
  {
   "cell_type": "markdown",
   "id": "1fdb235c-5400-47fc-9375-e075393aaea1",
   "metadata": {},
   "source": [
    "# Исследовательский анализ данных по просмотрам пользователей в VK Видео за день на IOS и Android\n",
    "\n",
    "- Автор:Кононов С.В."
   ]
  },
  {
   "cell_type": "markdown",
   "id": "1593b35a-3397-4750-a0e0-ef2c5e554459",
   "metadata": {},
   "source": [
    "## 1.1 Цели и задачи проекта\n",
    "\n",
    "**Цель:** Провести исследовательский анализ данных о просмотрах видео на различных платформах с целью выявления ключевых паттернов поведения пользователей. Выяснить, как зависит осознанность просмотров от платформы. Изучить, как распределены просмотры среди топ-10 сообществ.\n",
    " \n",
    "**Задачи:**\n",
    "\n",
    "1. Загрузить данные и провести первичный анализ.\n",
    "2. Провести предобработку данных.\n",
    "3. Провести исследовательский анализ данных:\n",
    "    - Подсчитать, какая платформа имела больше всего осознанных просмотров (длительность просмотров >= 30 секундам)\n",
    "    - Выявить топ-10 сообществ по total_view_time после очистки выбросов.\n",
    "4. Сформулировать выводы по проведённому анализу."
   ]
  },
  {
   "cell_type": "markdown",
   "id": "d2d66f86-92ed-4294-9871-567bfba4a95a",
   "metadata": {},
   "source": [
    "## 1.2 Описание данных\n",
    "\n",
    "**Названия файла:** `video_sessions_transformed.csv`\n",
    "\n",
    "**Период:** 1 день\n",
    "\n",
    "**Описание датасета:**\n",
    "\n",
    "- `user_id` - идентификатор пользователя\n",
    "- `video_owner_id` - идентификатор сообщества\n",
    "- `total_view_time` - время просмотра в секундах\n",
    "- `vk_platform` - платформа, с которой был произведен просмотр\n",
    "- `nav_screen` - экран смотрения\n",
    "- `video_id` - идентификатор видео"
   ]
  },
  {
   "cell_type": "markdown",
   "id": "5b076ca8-6c73-4213-87b8-bef2913a13ef",
   "metadata": {},
   "source": [
    "## 2 Загрузка и первичный анализ данных"
   ]
  },
  {
   "cell_type": "markdown",
   "id": "86e9058d-a205-4dbe-957c-4ed649daaf48",
   "metadata": {},
   "source": [
    "### 2.1 Вывод общей информации"
   ]
  },
  {
   "cell_type": "code",
   "execution_count": 6,
   "id": "2f3df194-b873-4d85-bc0f-8c6e22d16c12",
   "metadata": {},
   "outputs": [],
   "source": [
    "import pandas as pd\n",
    "import matplotlib.pyplot as plt\n",
    "import seaborn as sns"
   ]
  },
  {
   "cell_type": "code",
   "execution_count": 7,
   "id": "943822f1-8ae4-49a6-b309-97da93ac9f5b",
   "metadata": {},
   "outputs": [],
   "source": [
    "df = pd.read_csv(r'C:\\Users\\svyat\\Downloads\\video_sessions_transformed.csv')"
   ]
  },
  {
   "cell_type": "code",
   "execution_count": 8,
   "id": "809d8c94-3cee-4fb7-b291-5e670de353e7",
   "metadata": {},
   "outputs": [
    {
     "name": "stdout",
     "output_type": "stream",
     "text": [
      "<class 'pandas.core.frame.DataFrame'>\n",
      "RangeIndex: 4503 entries, 0 to 4502\n",
      "Data columns (total 6 columns):\n",
      " #   Column           Non-Null Count  Dtype \n",
      "---  ------           --------------  ----- \n",
      " 0   user_id          4503 non-null   int64 \n",
      " 1   video_owner_id   4503 non-null   int64 \n",
      " 2   total_view_time  4503 non-null   int64 \n",
      " 3   vk_platform      4503 non-null   object\n",
      " 4   nav_screen       4503 non-null   object\n",
      " 5   video_id         4503 non-null   int64 \n",
      "dtypes: int64(4), object(2)\n",
      "memory usage: 211.2+ KB\n"
     ]
    }
   ],
   "source": [
    "df.info()"
   ]
  },
  {
   "cell_type": "code",
   "execution_count": 9,
   "id": "94e15248-b01e-4d42-bf3e-4faa87c27fe1",
   "metadata": {},
   "outputs": [
    {
     "data": {
      "text/html": [
       "<div>\n",
       "<style scoped>\n",
       "    .dataframe tbody tr th:only-of-type {\n",
       "        vertical-align: middle;\n",
       "    }\n",
       "\n",
       "    .dataframe tbody tr th {\n",
       "        vertical-align: top;\n",
       "    }\n",
       "\n",
       "    .dataframe thead th {\n",
       "        text-align: right;\n",
       "    }\n",
       "</style>\n",
       "<table border=\"1\" class=\"dataframe\">\n",
       "  <thead>\n",
       "    <tr style=\"text-align: right;\">\n",
       "      <th></th>\n",
       "      <th>user_id</th>\n",
       "      <th>video_owner_id</th>\n",
       "      <th>total_view_time</th>\n",
       "      <th>vk_platform</th>\n",
       "      <th>nav_screen</th>\n",
       "      <th>video_id</th>\n",
       "    </tr>\n",
       "  </thead>\n",
       "  <tbody>\n",
       "    <tr>\n",
       "      <th>0</th>\n",
       "      <td>5137060586</td>\n",
       "      <td>197846393764</td>\n",
       "      <td>0</td>\n",
       "      <td>vk_video_ios</td>\n",
       "      <td>video_for_you</td>\n",
       "      <td>1524753638856</td>\n",
       "    </tr>\n",
       "    <tr>\n",
       "      <th>1</th>\n",
       "      <td>6791352918</td>\n",
       "      <td>255312742952</td>\n",
       "      <td>0</td>\n",
       "      <td>vk_video_android</td>\n",
       "      <td>video_search</td>\n",
       "      <td>1524750811524</td>\n",
       "    </tr>\n",
       "    <tr>\n",
       "      <th>2</th>\n",
       "      <td>8499858010</td>\n",
       "      <td>290290140528</td>\n",
       "      <td>2</td>\n",
       "      <td>vk_video_android</td>\n",
       "      <td>video_for_you</td>\n",
       "      <td>1524751697154</td>\n",
       "    </tr>\n",
       "    <tr>\n",
       "      <th>3</th>\n",
       "      <td>13064371614</td>\n",
       "      <td>296968444192</td>\n",
       "      <td>0</td>\n",
       "      <td>vk_video_android</td>\n",
       "      <td>video_search</td>\n",
       "      <td>1524751112304</td>\n",
       "    </tr>\n",
       "    <tr>\n",
       "      <th>4</th>\n",
       "      <td>15865765790</td>\n",
       "      <td>283074246524</td>\n",
       "      <td>0</td>\n",
       "      <td>vk_video_android</td>\n",
       "      <td>video_for_you</td>\n",
       "      <td>1524752278662</td>\n",
       "    </tr>\n",
       "    <tr>\n",
       "      <th>5</th>\n",
       "      <td>19297132316</td>\n",
       "      <td>283218770392</td>\n",
       "      <td>2</td>\n",
       "      <td>vk_video_android</td>\n",
       "      <td>video_search</td>\n",
       "      <td>1524750995334</td>\n",
       "    </tr>\n",
       "    <tr>\n",
       "      <th>6</th>\n",
       "      <td>30021119002</td>\n",
       "      <td>125716034912</td>\n",
       "      <td>0</td>\n",
       "      <td>vk_video_android</td>\n",
       "      <td>video_search</td>\n",
       "      <td>1524755964888</td>\n",
       "    </tr>\n",
       "    <tr>\n",
       "      <th>7</th>\n",
       "      <td>32740290492</td>\n",
       "      <td>92331463620</td>\n",
       "      <td>0</td>\n",
       "      <td>vk_video_android</td>\n",
       "      <td>video_search</td>\n",
       "      <td>572423140620</td>\n",
       "    </tr>\n",
       "    <tr>\n",
       "      <th>8</th>\n",
       "      <td>41937384832</td>\n",
       "      <td>292278366172</td>\n",
       "      <td>0</td>\n",
       "      <td>vk_video_ios</td>\n",
       "      <td>video_for_you</td>\n",
       "      <td>1524753842718</td>\n",
       "    </tr>\n",
       "    <tr>\n",
       "      <th>9</th>\n",
       "      <td>46106848046</td>\n",
       "      <td>83801670412</td>\n",
       "      <td>1</td>\n",
       "      <td>vk_video_ios</td>\n",
       "      <td>video_for_you</td>\n",
       "      <td>1524755867970</td>\n",
       "    </tr>\n",
       "  </tbody>\n",
       "</table>\n",
       "</div>"
      ],
      "text/plain": [
       "       user_id  video_owner_id  total_view_time       vk_platform  \\\n",
       "0   5137060586    197846393764                0      vk_video_ios   \n",
       "1   6791352918    255312742952                0  vk_video_android   \n",
       "2   8499858010    290290140528                2  vk_video_android   \n",
       "3  13064371614    296968444192                0  vk_video_android   \n",
       "4  15865765790    283074246524                0  vk_video_android   \n",
       "5  19297132316    283218770392                2  vk_video_android   \n",
       "6  30021119002    125716034912                0  vk_video_android   \n",
       "7  32740290492     92331463620                0  vk_video_android   \n",
       "8  41937384832    292278366172                0      vk_video_ios   \n",
       "9  46106848046     83801670412                1      vk_video_ios   \n",
       "\n",
       "      nav_screen       video_id  \n",
       "0  video_for_you  1524753638856  \n",
       "1   video_search  1524750811524  \n",
       "2  video_for_you  1524751697154  \n",
       "3   video_search  1524751112304  \n",
       "4  video_for_you  1524752278662  \n",
       "5   video_search  1524750995334  \n",
       "6   video_search  1524755964888  \n",
       "7   video_search   572423140620  \n",
       "8  video_for_you  1524753842718  \n",
       "9  video_for_you  1524755867970  "
      ]
     },
     "execution_count": 9,
     "metadata": {},
     "output_type": "execute_result"
    }
   ],
   "source": [
    "df.head(10)"
   ]
  },
  {
   "cell_type": "code",
   "execution_count": 10,
   "id": "15470e11-de0a-42f2-b40a-c3a314a0f0d5",
   "metadata": {
    "scrolled": true
   },
   "outputs": [
    {
     "data": {
      "text/plain": [
       "count        4503.00\n",
       "mean       104659.89\n",
       "std       4959591.64\n",
       "min          -300.00\n",
       "25%             0.00\n",
       "50%             0.00\n",
       "75%             2.00\n",
       "max     240502233.00\n",
       "Name: total_view_time, dtype: float64"
      ]
     },
     "execution_count": 10,
     "metadata": {},
     "output_type": "execute_result"
    }
   ],
   "source": [
    "pd.set_option('display.float_format', '{:.2f}'.format)\n",
    "df['total_view_time'].describe()"
   ]
  },
  {
   "cell_type": "markdown",
   "id": "a1b3d2dc-2de7-40ea-a026-762e9ecd7067",
   "metadata": {},
   "source": [
    "### 2.2 Промежуточный вывод по датасету `df`"
   ]
  },
  {
   "cell_type": "markdown",
   "id": "bd416500-7bdb-46f5-a8f0-6220daf6d177",
   "metadata": {},
   "source": [
    "Датасет `df` содержит 6 столбцов и 4503 строки.\n",
    "\n",
    "- 4 столбца представлены в формате int64 и 2 в object, на первый взгляд типы данных не требуют предобработки\n",
    "- Названия столбцов представлены в едином стиле и не требуют предобработки\n",
    "- В данных не обнаружено содержание пропусков\n",
    "- В столбце `total_view_time` обнаружены отрицательные значения, что свидетельствует о выбросах. В дальнейшем следует исследовать этот столбец детальнее."
   ]
  },
  {
   "cell_type": "markdown",
   "id": "badb6cb0-d116-43d2-836e-3321cadbd7ff",
   "metadata": {},
   "source": [
    "## 3 Предобработка данных"
   ]
  },
  {
   "cell_type": "markdown",
   "id": "c00d8ae6-7e56-4cac-a618-e73b1f665c2c",
   "metadata": {},
   "source": [
    "### 3.1 Анализ и обработка выбросов"
   ]
  },
  {
   "cell_type": "code",
   "execution_count": 15,
   "id": "48ee6be0-4672-4821-951b-2c191c77a2de",
   "metadata": {},
   "outputs": [
    {
     "data": {
      "text/html": [
       "<div>\n",
       "<style scoped>\n",
       "    .dataframe tbody tr th:only-of-type {\n",
       "        vertical-align: middle;\n",
       "    }\n",
       "\n",
       "    .dataframe tbody tr th {\n",
       "        vertical-align: top;\n",
       "    }\n",
       "\n",
       "    .dataframe thead th {\n",
       "        text-align: right;\n",
       "    }\n",
       "</style>\n",
       "<table border=\"1\" class=\"dataframe\">\n",
       "  <thead>\n",
       "    <tr style=\"text-align: right;\">\n",
       "      <th></th>\n",
       "      <th>count</th>\n",
       "      <th>mean</th>\n",
       "      <th>std</th>\n",
       "      <th>min</th>\n",
       "      <th>25%</th>\n",
       "      <th>50%</th>\n",
       "      <th>75%</th>\n",
       "      <th>max</th>\n",
       "    </tr>\n",
       "  </thead>\n",
       "  <tbody>\n",
       "    <tr>\n",
       "      <th>user_id</th>\n",
       "      <td>4503.00</td>\n",
       "      <td>12335439677763.86</td>\n",
       "      <td>10768789828243.47</td>\n",
       "      <td>208518338.00</td>\n",
       "      <td>2248819224981.00</td>\n",
       "      <td>9657196427816.00</td>\n",
       "      <td>20482626682889.00</td>\n",
       "      <td>37299994520642.00</td>\n",
       "    </tr>\n",
       "    <tr>\n",
       "      <th>video_owner_id</th>\n",
       "      <td>4503.00</td>\n",
       "      <td>181159332950.28</td>\n",
       "      <td>201580297878.99</td>\n",
       "      <td>-1122276752848.00</td>\n",
       "      <td>137716120828.00</td>\n",
       "      <td>254289612684.00</td>\n",
       "      <td>283977180100.00</td>\n",
       "      <td>2649072653164.00</td>\n",
       "    </tr>\n",
       "    <tr>\n",
       "      <th>total_view_time</th>\n",
       "      <td>4503.00</td>\n",
       "      <td>104659.89</td>\n",
       "      <td>4959591.64</td>\n",
       "      <td>-300.00</td>\n",
       "      <td>0.00</td>\n",
       "      <td>0.00</td>\n",
       "      <td>2.00</td>\n",
       "      <td>240502233.00</td>\n",
       "    </tr>\n",
       "    <tr>\n",
       "      <th>video_id</th>\n",
       "      <td>4503.00</td>\n",
       "      <td>1508004913273.82</td>\n",
       "      <td>128912974406.16</td>\n",
       "      <td>2344280.00</td>\n",
       "      <td>1524751804098.00</td>\n",
       "      <td>1524754283862.00</td>\n",
       "      <td>1524762206073.00</td>\n",
       "      <td>1525611877824.00</td>\n",
       "    </tr>\n",
       "  </tbody>\n",
       "</table>\n",
       "</div>"
      ],
      "text/plain": [
       "                  count              mean               std               min  \\\n",
       "user_id         4503.00 12335439677763.86 10768789828243.47      208518338.00   \n",
       "video_owner_id  4503.00   181159332950.28   201580297878.99 -1122276752848.00   \n",
       "total_view_time 4503.00         104659.89        4959591.64           -300.00   \n",
       "video_id        4503.00  1508004913273.82   128912974406.16        2344280.00   \n",
       "\n",
       "                             25%              50%               75%  \\\n",
       "user_id         2248819224981.00 9657196427816.00 20482626682889.00   \n",
       "video_owner_id   137716120828.00  254289612684.00   283977180100.00   \n",
       "total_view_time             0.00             0.00              2.00   \n",
       "video_id        1524751804098.00 1524754283862.00  1524762206073.00   \n",
       "\n",
       "                              max  \n",
       "user_id         37299994520642.00  \n",
       "video_owner_id   2649072653164.00  \n",
       "total_view_time      240502233.00  \n",
       "video_id         1525611877824.00  "
      ]
     },
     "execution_count": 15,
     "metadata": {},
     "output_type": "execute_result"
    }
   ],
   "source": [
    "df.describe().transpose() "
   ]
  },
  {
   "cell_type": "markdown",
   "id": "b40a6968-ca30-4019-a3d1-3d7303c81731",
   "metadata": {},
   "source": [
    "В столбцах `total_view_time` и `video_owner_id` обнаружены отрицательные значения, они явно являются выбросами, т.к. в данных столбцах содержатся время просмотров и id сообщества, которые не могут быть отрицательными. Удалим строки с этими значениями"
   ]
  },
  {
   "cell_type": "code",
   "execution_count": 17,
   "id": "d7d1b5a6-f691-41fc-9ce8-032d01a67171",
   "metadata": {},
   "outputs": [
    {
     "name": "stdout",
     "output_type": "stream",
     "text": [
      "<class 'pandas.core.frame.DataFrame'>\n",
      "Index: 4253 entries, 0 to 4502\n",
      "Data columns (total 6 columns):\n",
      " #   Column           Non-Null Count  Dtype \n",
      "---  ------           --------------  ----- \n",
      " 0   user_id          4253 non-null   int64 \n",
      " 1   video_owner_id   4253 non-null   int64 \n",
      " 2   total_view_time  4253 non-null   int64 \n",
      " 3   vk_platform      4253 non-null   object\n",
      " 4   nav_screen       4253 non-null   object\n",
      " 5   video_id         4253 non-null   int64 \n",
      "dtypes: int64(4), object(2)\n",
      "memory usage: 232.6+ KB\n"
     ]
    }
   ],
   "source": [
    "df_new = df[df['video_owner_id'] > 0]\n",
    "df_new = df_new[df_new['total_view_time'] >= 0]\n",
    "df_new.info()"
   ]
  },
  {
   "cell_type": "code",
   "execution_count": 18,
   "id": "8dd44e4b-091b-47f5-856b-2573b44135ac",
   "metadata": {},
   "outputs": [
    {
     "data": {
      "text/plain": [
       "250"
      ]
     },
     "execution_count": 18,
     "metadata": {},
     "output_type": "execute_result"
    }
   ],
   "source": [
    "df.shape[0] - df_new.shape[0] "
   ]
  },
  {
   "cell_type": "markdown",
   "id": "686100c6-eb1f-4df1-a5dc-484608769e86",
   "metadata": {},
   "source": [
    "Было удалено 250 строк"
   ]
  },
  {
   "cell_type": "code",
   "execution_count": 20,
   "id": "4cd99c3d-c5fc-41eb-9ab1-63e04bd37ae5",
   "metadata": {},
   "outputs": [
    {
     "data": {
      "text/html": [
       "<div>\n",
       "<style scoped>\n",
       "    .dataframe tbody tr th:only-of-type {\n",
       "        vertical-align: middle;\n",
       "    }\n",
       "\n",
       "    .dataframe tbody tr th {\n",
       "        vertical-align: top;\n",
       "    }\n",
       "\n",
       "    .dataframe thead th {\n",
       "        text-align: right;\n",
       "    }\n",
       "</style>\n",
       "<table border=\"1\" class=\"dataframe\">\n",
       "  <thead>\n",
       "    <tr style=\"text-align: right;\">\n",
       "      <th></th>\n",
       "      <th>count</th>\n",
       "      <th>mean</th>\n",
       "      <th>std</th>\n",
       "      <th>min</th>\n",
       "      <th>25%</th>\n",
       "      <th>50%</th>\n",
       "      <th>75%</th>\n",
       "      <th>max</th>\n",
       "    </tr>\n",
       "  </thead>\n",
       "  <tbody>\n",
       "    <tr>\n",
       "      <th>user_id</th>\n",
       "      <td>4253.00</td>\n",
       "      <td>12255947110964.20</td>\n",
       "      <td>10754539001008.76</td>\n",
       "      <td>208518338.00</td>\n",
       "      <td>2235030962430.00</td>\n",
       "      <td>9536440516736.00</td>\n",
       "      <td>20363907916660.00</td>\n",
       "      <td>37299994520642.00</td>\n",
       "    </tr>\n",
       "    <tr>\n",
       "      <th>video_owner_id</th>\n",
       "      <td>4253.00</td>\n",
       "      <td>217104880896.20</td>\n",
       "      <td>116548465830.38</td>\n",
       "      <td>62228.00</td>\n",
       "      <td>145819277544.00</td>\n",
       "      <td>262794852312.00</td>\n",
       "      <td>284981117664.00</td>\n",
       "      <td>2649072653164.00</td>\n",
       "    </tr>\n",
       "    <tr>\n",
       "      <th>total_view_time</th>\n",
       "      <td>4253.00</td>\n",
       "      <td>110802.99</td>\n",
       "      <td>5103244.40</td>\n",
       "      <td>0.00</td>\n",
       "      <td>0.00</td>\n",
       "      <td>0.00</td>\n",
       "      <td>2.00</td>\n",
       "      <td>240502233.00</td>\n",
       "    </tr>\n",
       "    <tr>\n",
       "      <th>video_id</th>\n",
       "      <td>4253.00</td>\n",
       "      <td>1512911408150.62</td>\n",
       "      <td>108369770409.38</td>\n",
       "      <td>152473232.00</td>\n",
       "      <td>1524751860912.00</td>\n",
       "      <td>1524754313940.00</td>\n",
       "      <td>1524762612126.00</td>\n",
       "      <td>1525611877824.00</td>\n",
       "    </tr>\n",
       "  </tbody>\n",
       "</table>\n",
       "</div>"
      ],
      "text/plain": [
       "                  count              mean               std          min  \\\n",
       "user_id         4253.00 12255947110964.20 10754539001008.76 208518338.00   \n",
       "video_owner_id  4253.00   217104880896.20   116548465830.38     62228.00   \n",
       "total_view_time 4253.00         110802.99        5103244.40         0.00   \n",
       "video_id        4253.00  1512911408150.62   108369770409.38 152473232.00   \n",
       "\n",
       "                             25%              50%               75%  \\\n",
       "user_id         2235030962430.00 9536440516736.00 20363907916660.00   \n",
       "video_owner_id   145819277544.00  262794852312.00   284981117664.00   \n",
       "total_view_time             0.00             0.00              2.00   \n",
       "video_id        1524751860912.00 1524754313940.00  1524762612126.00   \n",
       "\n",
       "                              max  \n",
       "user_id         37299994520642.00  \n",
       "video_owner_id   2649072653164.00  \n",
       "total_view_time      240502233.00  \n",
       "video_id         1525611877824.00  "
      ]
     },
     "execution_count": 20,
     "metadata": {},
     "output_type": "execute_result"
    }
   ],
   "source": [
    "df_new.describe().transpose()"
   ]
  },
  {
   "cell_type": "markdown",
   "id": "f40eea22-cebc-4c24-83fa-b3a480341021",
   "metadata": {},
   "source": [
    "В столбце `total_view_time` в части строк содержится значением 0, что может говорить о технической ошибке. Однако медиана(50%) = 0 , это говорит о том, что значительная часть данных содержит 0 в этом столбце. Таким образом, данное значение, вероястно, получилось в результате быстрого выхода: пользователь закрыл видео сразу после запуска."
   ]
  },
  {
   "cell_type": "code",
   "execution_count": 22,
   "id": "10780892-69a5-4cb1-9ebf-d2a0a387365d",
   "metadata": {},
   "outputs": [
    {
     "data": {
      "text/plain": [
       "2783.5906597222224"
      ]
     },
     "execution_count": 22,
     "metadata": {},
     "output_type": "execute_result"
    }
   ],
   "source": [
    "240502233 / (3600 * 24)"
   ]
  },
  {
   "cell_type": "markdown",
   "id": "18084f34-703f-4c3b-a87f-e8059552a32f",
   "metadata": {},
   "source": [
    "С другой стороны максимальное значение времени просмотра составляет 2783.59 дня, что является явным выбросом. Т.к. 1 квартиль = 0 , а 3 = 2 секндам , то удаление пропусков с помощью межквартильного размаха удалит многие значения, которые не являются выбросами. Поэтому найдём 95 квантиль."
   ]
  },
  {
   "cell_type": "code",
   "execution_count": 24,
   "id": "e9142796-b7a7-4c64-ba08-86f53233ba3d",
   "metadata": {},
   "outputs": [
    {
     "data": {
      "text/plain": [
       "11.776666666666491"
      ]
     },
     "execution_count": 24,
     "metadata": {},
     "output_type": "execute_result"
    }
   ],
   "source": [
    "quantile_95 = df_new['total_view_time'].quantile(0.95) / 60\n",
    "quantile_95"
   ]
  },
  {
   "cell_type": "code",
   "execution_count": 25,
   "id": "65c0966a-b6c1-487b-a70b-8cc6ed19e3c2",
   "metadata": {},
   "outputs": [],
   "source": [
    "quantile_95 = quantile_95 * 60"
   ]
  },
  {
   "cell_type": "markdown",
   "id": "ef35814d-4373-4749-bcb6-e31530dc499b",
   "metadata": {},
   "source": [
    "Вполне реально, что какой-то просмотр длился 11.7 минут"
   ]
  },
  {
   "cell_type": "code",
   "execution_count": 27,
   "id": "e214ce22-b800-4a46-9b95-33dab2eb7db5",
   "metadata": {},
   "outputs": [
    {
     "data": {
      "text/plain": [
       "26.179333333333307"
      ]
     },
     "execution_count": 27,
     "metadata": {},
     "output_type": "execute_result"
    }
   ],
   "source": [
    "df_new['total_view_time'].quantile(0.97) / 60"
   ]
  },
  {
   "cell_type": "code",
   "execution_count": 28,
   "id": "6ee7ba93-2aa8-44bc-8965-548f45f148e0",
   "metadata": {},
   "outputs": [
    {
     "data": {
      "text/plain": [
       "38.69933333333335"
      ]
     },
     "execution_count": 28,
     "metadata": {},
     "output_type": "execute_result"
    }
   ],
   "source": [
    "df_new['total_view_time'].quantile(0.98) / 60"
   ]
  },
  {
   "cell_type": "code",
   "execution_count": 29,
   "id": "7f7ab56a-7cc7-4f73-baaf-761a4f0fe4e2",
   "metadata": {},
   "outputs": [
    {
     "data": {
      "text/plain": [
       "60.67066666666512"
      ]
     },
     "execution_count": 29,
     "metadata": {},
     "output_type": "execute_result"
    }
   ],
   "source": [
    "df_new['total_view_time'].quantile(0.99) / 60"
   ]
  },
  {
   "cell_type": "markdown",
   "id": "0516104d-4941-41fd-ab02-9acffc450f58",
   "metadata": {},
   "source": [
    "Значения в 26, 38 и даже 60 минут тоже выглядят вполне реалистичными, но учитывая, что большенство значений <= 2 секунд , то удалим значения > 95 квантиля, чтобы при дальнейшем анализе и выявлении топа сооществ данные значения не повлияли критично на результат."
   ]
  },
  {
   "cell_type": "code",
   "execution_count": 31,
   "id": "dc6f842b-3090-4c77-828f-d2ca4a1891ee",
   "metadata": {},
   "outputs": [
    {
     "data": {
      "text/plain": [
       "count   4040.00\n",
       "mean      11.23\n",
       "std       62.95\n",
       "min        0.00\n",
       "25%        0.00\n",
       "50%        0.00\n",
       "75%        2.00\n",
       "max      695.00\n",
       "Name: total_view_time, dtype: float64"
      ]
     },
     "execution_count": 31,
     "metadata": {},
     "output_type": "execute_result"
    }
   ],
   "source": [
    "df_new = df_new[df_new['total_view_time'] <= quantile_95]\n",
    "df_new['total_view_time'].describe()"
   ]
  },
  {
   "cell_type": "code",
   "execution_count": 32,
   "id": "355bb3d1-eea1-473d-8dd1-fefee0477ae3",
   "metadata": {
    "scrolled": true
   },
   "outputs": [
    {
     "data": {
      "text/plain": [
       "463"
      ]
     },
     "execution_count": 32,
     "metadata": {},
     "output_type": "execute_result"
    }
   ],
   "source": [
    "df.shape[0] - df_new.shape[0]"
   ]
  },
  {
   "cell_type": "markdown",
   "id": "d6f42c37-774c-43fc-879e-a1cdb653876a",
   "metadata": {},
   "source": [
    "### 3.2 Промежуточные выводы"
   ]
  },
  {
   "cell_type": "markdown",
   "id": "1c05cf3d-9af3-46cb-aa7a-540a312eaf37",
   "metadata": {},
   "source": [
    "В результате обработки пропусков были удалены аномально низкие значения (< 0) из столбцов `total_view_time` и `video_owner_id`. Также, так как цель исследования - выявление ключевых паттернов, то из столбца `total_view_time` были удалены значения > 95 квантиля, которые могли негативно повлиять в большую сторону при анализе длительности просмотров.\n",
    "\n",
    "Распределение данных после обработки пропусков:\n",
    "- большинство просмотров (75%) длятся менее <= 2 секунд. При этом 50% длятся 0 секунд. Это указывает на низкую вовлеченность пользователей.\n",
    "- максимальное значение равно 695 секунд, что реалистично для платформы.\n",
    "\n",
    "Всего было удалено 463 строки."
   ]
  },
  {
   "cell_type": "markdown",
   "id": "7ca5ffb9-aa7f-4df4-a2cb-7d7dd1357029",
   "metadata": {},
   "source": [
    "## 4 Исследовательский анализ данных"
   ]
  },
  {
   "cell_type": "markdown",
   "id": "458d7b10-4429-40cb-904e-c3a03c2b266b",
   "metadata": {},
   "source": [
    "### 4.1 Анализ количества осознанных просмотров по платформам"
   ]
  },
  {
   "cell_type": "markdown",
   "id": "87e45390-c81f-4f84-b8a1-cd4a5b866cb9",
   "metadata": {},
   "source": [
    "Осознанный просмотр - просмотр, длительность которого >= 30 секунд"
   ]
  },
  {
   "cell_type": "code",
   "execution_count": 38,
   "id": "14c54cde-78ea-4eb1-8662-cd352030a9c1",
   "metadata": {},
   "outputs": [
    {
     "name": "stdout",
     "output_type": "stream",
     "text": [
      "<class 'pandas.core.frame.DataFrame'>\n",
      "Index: 161 entries, 163 to 4439\n",
      "Data columns (total 6 columns):\n",
      " #   Column           Non-Null Count  Dtype \n",
      "---  ------           --------------  ----- \n",
      " 0   user_id          161 non-null    int64 \n",
      " 1   video_owner_id   161 non-null    int64 \n",
      " 2   total_view_time  161 non-null    int64 \n",
      " 3   vk_platform      161 non-null    object\n",
      " 4   nav_screen       161 non-null    object\n",
      " 5   video_id         161 non-null    int64 \n",
      "dtypes: int64(4), object(2)\n",
      "memory usage: 8.8+ KB\n"
     ]
    }
   ],
   "source": [
    "# фильтруем данные по времени просмотра >= 30c\n",
    "df_filter = df_new[df_new['total_view_time'] >= 30]\n",
    "df_filter.info()"
   ]
  },
  {
   "cell_type": "code",
   "execution_count": 39,
   "id": "84fd6248-936f-493b-b7aa-5b15cbd6aeec",
   "metadata": {},
   "outputs": [
    {
     "data": {
      "text/plain": [
       "3.99"
      ]
     },
     "execution_count": 39,
     "metadata": {},
     "output_type": "execute_result"
    }
   ],
   "source": [
    "round(df_filter.shape[0] / df_new.shape[0] * 100, 2)"
   ]
  },
  {
   "cell_type": "markdown",
   "id": "3217843b-8eea-42bd-bdfb-b4e357bbcaf5",
   "metadata": {},
   "source": [
    "Всего 3.99% данных содержат информацию об осознанных просмотрах. Это указывает на малую вовлеченность аудитории в контент клатформы"
   ]
  },
  {
   "cell_type": "code",
   "execution_count": 41,
   "id": "74645d26-defa-44d4-98a1-8d0a4155960f",
   "metadata": {},
   "outputs": [
    {
     "data": {
      "text/html": [
       "<div>\n",
       "<style scoped>\n",
       "    .dataframe tbody tr th:only-of-type {\n",
       "        vertical-align: middle;\n",
       "    }\n",
       "\n",
       "    .dataframe tbody tr th {\n",
       "        vertical-align: top;\n",
       "    }\n",
       "\n",
       "    .dataframe thead th {\n",
       "        text-align: right;\n",
       "    }\n",
       "</style>\n",
       "<table border=\"1\" class=\"dataframe\">\n",
       "  <thead>\n",
       "    <tr style=\"text-align: right;\">\n",
       "      <th></th>\n",
       "      <th>vk_platform</th>\n",
       "      <th>count_conscious_views</th>\n",
       "    </tr>\n",
       "  </thead>\n",
       "  <tbody>\n",
       "    <tr>\n",
       "      <th>0</th>\n",
       "      <td>Android</td>\n",
       "      <td>128</td>\n",
       "    </tr>\n",
       "    <tr>\n",
       "      <th>1</th>\n",
       "      <td>IOS</td>\n",
       "      <td>33</td>\n",
       "    </tr>\n",
       "  </tbody>\n",
       "</table>\n",
       "</div>"
      ],
      "text/plain": [
       "  vk_platform  count_conscious_views\n",
       "0     Android                    128\n",
       "1         IOS                     33"
      ]
     },
     "execution_count": 41,
     "metadata": {},
     "output_type": "execute_result"
    }
   ],
   "source": [
    "# группируем данные по платформе и находим количество осмысленных просмотров\n",
    "df_top_platform = df_filter.groupby('vk_platform')['total_view_time'].count().reset_index()\n",
    "df_top_platform['vk_platform'] = df_top_platform['vk_platform'].replace({\n",
    "                                                                         'vk_video_android': 'Android',\n",
    "                                                                         'vk_video_ios': 'IOS'\n",
    "                                                                        })\n",
    "df_top_platform = df_top_platform.rename(columns = {'total_view_time': 'count_conscious_views'})\n",
    "\n",
    "df_top_platform"
   ]
  },
  {
   "cell_type": "code",
   "execution_count": 42,
   "id": "794c4d94-9e63-41fb-9ca8-8034e8529ea6",
   "metadata": {},
   "outputs": [
    {
     "data": {
      "text/plain": [
       "79.5031055900621"
      ]
     },
     "execution_count": 42,
     "metadata": {},
     "output_type": "execute_result"
    }
   ],
   "source": [
    "# Процент просмотров на андроид от общего числа\n",
    "128 / 161 * 100"
   ]
  },
  {
   "cell_type": "code",
   "execution_count": 43,
   "id": "fefa170d-1790-4903-a9f0-8d275e2bb328",
   "metadata": {},
   "outputs": [
    {
     "data": {
      "text/plain": [
       "20.496894409937887"
      ]
     },
     "execution_count": 43,
     "metadata": {},
     "output_type": "execute_result"
    }
   ],
   "source": [
    "# Процент просмотров на айос от общего числа\n",
    "33 / 161 * 100"
   ]
  },
  {
   "cell_type": "code",
   "execution_count": 44,
   "id": "957a6bb0-da6d-4b73-a2fd-84b2edfdb577",
   "metadata": {},
   "outputs": [
    {
     "name": "stderr",
     "output_type": "stream",
     "text": [
      "C:\\Users\\svyat\\AppData\\Local\\Temp\\ipykernel_25160\\565682400.py:3: FutureWarning: \n",
      "\n",
      "Passing `palette` without assigning `hue` is deprecated and will be removed in v0.14.0. Assign the `x` variable to `hue` and set `legend=False` for the same effect.\n",
      "\n",
      "  sns.barplot(data = df_top_platform,\n"
     ]
    },
    {
     "data": {
      "image/png": "[encoded data removed]",
      "text/plain": [
       "<Figure size 400x500 with 1 Axes>"
      ]
     },
     "metadata": {},
     "output_type": "display_data"
    }
   ],
   "source": [
    "plt.figure(figsize=(4,5))\n",
    "\n",
    "sns.barplot(data = df_top_platform,\n",
    "            x = 'vk_platform',\n",
    "            y = 'count_conscious_views',\n",
    "            palette = ('purple', 'orange')\n",
    "           )\n",
    "\n",
    "plt.title('Распределение осознанных просмотров по платформам')\n",
    "plt.xlabel('Платформа')\n",
    "plt.ylabel('Количество осознанных просмотров')\n",
    "\n",
    "plt.show()"
   ]
  },
  {
   "cell_type": "markdown",
   "id": "2af0ffb3-617c-48f7-a3ec-8c099ea5af2f",
   "metadata": {},
   "source": [
    "### 4.2 Вывод по распределению осознанных просмотров на платформах\n",
    "\n",
    "Распределение просмотров:\n",
    "- **Android**: 128 осознанных просмотров(79.5% от общего числа)\n",
    "- **IOS**: 33 осознанных просмотров(20.5% от общего числа)\n",
    "\n",
    "Таким образом, пользователи Android проявляют почти в 4 раза больше осознанного взаимодействия с контентом, чем пользователи IOS\n",
    "\n",
    "Однако, общая доля осознанных просмотров составляет всего 3.99% от всех просмотров, что указывает на **низкую вовлеченность** аудитории платформы."
   ]
  },
  {
   "cell_type": "markdown",
   "id": "c627c073-05b6-4195-be99-a2be3c432c82",
   "metadata": {},
   "source": [
    "### 4.3 Топ-10 сообществ по `total_view_time`"
   ]
  },
  {
   "cell_type": "code",
   "execution_count": 47,
   "id": "a10de4ce-c80a-41cb-9d1f-06a4a0ddaaa7",
   "metadata": {},
   "outputs": [
    {
     "data": {
      "text/plain": [
       "count   4040.00\n",
       "mean      11.23\n",
       "std       62.95\n",
       "min        0.00\n",
       "25%        0.00\n",
       "50%        0.00\n",
       "75%        2.00\n",
       "max      695.00\n",
       "Name: total_view_time, dtype: float64"
      ]
     },
     "execution_count": 47,
     "metadata": {},
     "output_type": "execute_result"
    }
   ],
   "source": [
    "df_new['total_view_time'].describe()"
   ]
  },
  {
   "cell_type": "markdown",
   "id": "f0763b88-5149-48fe-9770-b918c321b913",
   "metadata": {},
   "source": [
    "Распределения `total_view_time` показывает значительную правостороннюю ассиметрией. Большая значений сосредоточено вблизи нуля (медиана и 75 процентиль равны 0 и 2 соответственно), однако присутствуют и экстремально высокие значения, достигающие 695. Из-за такого распределения среднее значение (11.23) может вводить в заблуждение и сильно завышать результат. При этом медиана также может не отображать действительную картину событий, из-за того, что данные представлены за 1 день и некоторые сообщества могут быть не так популярны, как другие, но при этом иметь высокую глубину просмотра. Поэтому для выявления топ-10 сообществ по времени просмотров будем использовать суммарное время просмотров."
   ]
  },
  {
   "cell_type": "code",
   "execution_count": 49,
   "id": "9ef71a87-bc33-42c8-bae4-9b4ed338da68",
   "metadata": {},
   "outputs": [
    {
     "data": {
      "text/html": [
       "<div>\n",
       "<style scoped>\n",
       "    .dataframe tbody tr th:only-of-type {\n",
       "        vertical-align: middle;\n",
       "    }\n",
       "\n",
       "    .dataframe tbody tr th {\n",
       "        vertical-align: top;\n",
       "    }\n",
       "\n",
       "    .dataframe thead th {\n",
       "        text-align: right;\n",
       "    }\n",
       "</style>\n",
       "<table border=\"1\" class=\"dataframe\">\n",
       "  <thead>\n",
       "    <tr style=\"text-align: right;\">\n",
       "      <th></th>\n",
       "      <th>video_owner_id</th>\n",
       "      <th>sum_view_time</th>\n",
       "    </tr>\n",
       "  </thead>\n",
       "  <tbody>\n",
       "    <tr>\n",
       "      <th>1339</th>\n",
       "      <td>279672446984</td>\n",
       "      <td>3857</td>\n",
       "    </tr>\n",
       "    <tr>\n",
       "      <th>1598</th>\n",
       "      <td>292278366172</td>\n",
       "      <td>2580</td>\n",
       "    </tr>\n",
       "    <tr>\n",
       "      <th>1605</th>\n",
       "      <td>292769954132</td>\n",
       "      <td>1787</td>\n",
       "    </tr>\n",
       "    <tr>\n",
       "      <th>529</th>\n",
       "      <td>140097381168</td>\n",
       "      <td>1618</td>\n",
       "    </tr>\n",
       "    <tr>\n",
       "      <th>835</th>\n",
       "      <td>214109178444</td>\n",
       "      <td>1612</td>\n",
       "    </tr>\n",
       "    <tr>\n",
       "      <th>1398</th>\n",
       "      <td>283074246524</td>\n",
       "      <td>1608</td>\n",
       "    </tr>\n",
       "    <tr>\n",
       "      <th>821</th>\n",
       "      <td>209969092672</td>\n",
       "      <td>1009</td>\n",
       "    </tr>\n",
       "    <tr>\n",
       "      <th>1506</th>\n",
       "      <td>288919613844</td>\n",
       "      <td>918</td>\n",
       "    </tr>\n",
       "    <tr>\n",
       "      <th>1344</th>\n",
       "      <td>279942606536</td>\n",
       "      <td>814</td>\n",
       "    </tr>\n",
       "    <tr>\n",
       "      <th>828</th>\n",
       "      <td>211638906908</td>\n",
       "      <td>798</td>\n",
       "    </tr>\n",
       "  </tbody>\n",
       "</table>\n",
       "</div>"
      ],
      "text/plain": [
       "      video_owner_id  sum_view_time\n",
       "1339    279672446984           3857\n",
       "1598    292278366172           2580\n",
       "1605    292769954132           1787\n",
       "529     140097381168           1618\n",
       "835     214109178444           1612\n",
       "1398    283074246524           1608\n",
       "821     209969092672           1009\n",
       "1506    288919613844            918\n",
       "1344    279942606536            814\n",
       "828     211638906908            798"
      ]
     },
     "execution_count": 49,
     "metadata": {},
     "output_type": "execute_result"
    }
   ],
   "source": [
    "# сгруппируем по сообществам и найдём сумму просмотров для каждого из них\n",
    "top_video_owner = df_new.groupby('video_owner_id')['total_view_time'].sum().reset_index()\n",
    "\n",
    "# выделим топ-10 сообществ\n",
    "top_video_owner = top_video_owner.sort_values(by='total_view_time', ascending = False)\n",
    "top_10_video_owner = top_video_owner.head(10)\n",
    "top_10_video_owner = top_10_video_owner.rename(columns = {'total_view_time': 'sum_view_time'})\n",
    "top_10_video_owner"
   ]
  },
  {
   "cell_type": "code",
   "execution_count": 50,
   "id": "706b6bf1-e291-4570-80b4-0c8c41dba4da",
   "metadata": {},
   "outputs": [
    {
     "data": {
      "text/plain": [
       "<Figure size 800x800 with 0 Axes>"
      ]
     },
     "metadata": {},
     "output_type": "display_data"
    },
    {
     "data": {
      "image/png": "[encoded data removed]",
      "text/plain": [
       "<Figure size 640x480 with 1 Axes>"
      ]
     },
     "metadata": {},
     "output_type": "display_data"
    }
   ],
   "source": [
    "top_10_video_owner = top_10_video_owner.sort_values(by='sum_view_time')\n",
    "\n",
    "plt.figure(figsize=(8,8))\n",
    "\n",
    "top_10_video_owner.plot(kind = 'barh',\n",
    "                        y = 'sum_view_time',\n",
    "                        x = 'video_owner_id',\n",
    "                        color = 'purple',\n",
    "                        edgecolor = 'black',\n",
    "                        legend = False\n",
    "                       )\n",
    "\n",
    "plt.title('Топ-10 сообществ по времени просмотров')\n",
    "plt.xlabel('Суммарное время просмотров')\n",
    "plt.ylabel('ID сообщества')\n",
    "\n",
    "plt.grid(axis = 'x')\n",
    "\n",
    "plt.show()"
   ]
  },
  {
   "cell_type": "markdown",
   "id": "d614ea29-6161-44e5-af06-1aa79f1346bf",
   "metadata": {},
   "source": [
    "### 4.4 Вывод по топ-10 сообществам по времени просмотров\n",
    "\n",
    "Наблюдается значительный разброс популярности среди сообщетсв: лидер обладает суммарный временем просмотров в 3857, что почти в 5 раз больше, чем у последнего места, у которого всего 798.\n",
    "\n",
    "Проведенный анализ демонтрирует, что среди сообщест существует явное разделение на группы по суммарному времени просмотров:\n",
    "\n",
    "- Группа абсолютных лидеров с суммарным временем просмотров свыше 2500 секунд (1 и 2 места)\n",
    "- Средняя группа с показателями в диапазоне 1500-2000 секунд (3-6 места)\n",
    "- Группа аутсайдеров с суммарным временем просмотров 1000 и менее (7-10 места) "
   ]
  },
  {
   "cell_type": "markdown",
   "id": "0ad38b86-ca2b-4732-b22d-0643d659ad61",
   "metadata": {},
   "source": [
    "### 4.5 Зависимость асознанных просмотров от экрана смотрения"
   ]
  },
  {
   "cell_type": "code",
   "execution_count": 53,
   "id": "0aa62790-4be1-4ffa-b50d-ff8681e971ff",
   "metadata": {},
   "outputs": [
    {
     "data": {
      "text/html": [
       "<div>\n",
       "<style scoped>\n",
       "    .dataframe tbody tr th:only-of-type {\n",
       "        vertical-align: middle;\n",
       "    }\n",
       "\n",
       "    .dataframe tbody tr th {\n",
       "        vertical-align: top;\n",
       "    }\n",
       "\n",
       "    .dataframe thead th {\n",
       "        text-align: right;\n",
       "    }\n",
       "</style>\n",
       "<table border=\"1\" class=\"dataframe\">\n",
       "  <thead>\n",
       "    <tr style=\"text-align: right;\">\n",
       "      <th></th>\n",
       "      <th>nav_screen</th>\n",
       "      <th>count_conscious_views</th>\n",
       "    </tr>\n",
       "  </thead>\n",
       "  <tbody>\n",
       "    <tr>\n",
       "      <th>1</th>\n",
       "      <td>video_for_you</td>\n",
       "      <td>65</td>\n",
       "    </tr>\n",
       "    <tr>\n",
       "      <th>5</th>\n",
       "      <td>video_search</td>\n",
       "      <td>63</td>\n",
       "    </tr>\n",
       "    <tr>\n",
       "      <th>4</th>\n",
       "      <td>video_my_history</td>\n",
       "      <td>18</td>\n",
       "    </tr>\n",
       "    <tr>\n",
       "      <th>2</th>\n",
       "      <td>video_group_all</td>\n",
       "      <td>13</td>\n",
       "    </tr>\n",
       "    <tr>\n",
       "      <th>0</th>\n",
       "      <td>catalog_other</td>\n",
       "      <td>1</td>\n",
       "    </tr>\n",
       "    <tr>\n",
       "      <th>3</th>\n",
       "      <td>video_group_main</td>\n",
       "      <td>1</td>\n",
       "    </tr>\n",
       "  </tbody>\n",
       "</table>\n",
       "</div>"
      ],
      "text/plain": [
       "         nav_screen  count_conscious_views\n",
       "1     video_for_you                     65\n",
       "5      video_search                     63\n",
       "4  video_my_history                     18\n",
       "2   video_group_all                     13\n",
       "0     catalog_other                      1\n",
       "3  video_group_main                      1"
      ]
     },
     "execution_count": 53,
     "metadata": {},
     "output_type": "execute_result"
    }
   ],
   "source": [
    "df_top_screen = df_filter.groupby('nav_screen')['total_view_time'].count().reset_index()\n",
    "df_top_screen = df_top_screen.rename(columns = {'total_view_time': 'count_conscious_views'})\n",
    "df_top_screen = df_top_screen.sort_values(by='count_conscious_views', ascending = False)\n",
    "df_top_screen"
   ]
  },
  {
   "cell_type": "code",
   "execution_count": 89,
   "id": "5409ee2a-16c0-4538-9d67-ac8888ccc2c2",
   "metadata": {},
   "outputs": [
    {
     "data": {
      "image/png": "[encoded data removed]",
      "text/plain": [
       "<Figure size 1000x600 with 1 Axes>"
      ]
     },
     "metadata": {},
     "output_type": "display_data"
    }
   ],
   "source": [
    "plt.figure(figsize=(10,6))\n",
    "\n",
    "sns.barplot(data = df_top_screen,\n",
    "            x = 'nav_screen',\n",
    "            y = 'count_conscious_views',\n",
    "            color = 'purple'\n",
    "           )\n",
    "\n",
    "plt.title('Распределение осознанных просмотров по экранам просмотров')\n",
    "plt.xlabel('Экран просмотра')\n",
    "plt.ylabel('Количество осознанных просмотров')\n",
    "\n",
    "plt.grid(axis = 'y')\n",
    "\n",
    "plt.show()"
   ]
  },
  {
   "cell_type": "markdown",
   "id": "15acc02a-c0f5-45a3-9dd6-22cd5f177aa6",
   "metadata": {},
   "source": [
    "### 4.6 Вывод по распределению осознанных просмотров в зависимости от экрана просмотра\n",
    "\n",
    "1) Лидеры по вовлеченности:\n",
    "   \n",
    "   video_for_you(рекомендации на главной) и video_search(поиск) демонтрируют наибольшее количество осознанных просмотров (65 и 63 соответственно). Это говорит о том, что алгоритмы рекомендаций и поиска эффективно удерживают внимание пользователей.\n",
    "3) Умеренная вовлеченность:\n",
    "   \n",
    "   video_my_history(история просмотров) обладает 18 осознанными просмотрами, что может указывать на вторичный интерес к ранее просмотренному контенту. video_group_all(все видео сообщества) обладает 13 осознанными просмотрами, это демонстрирует, что пользователи средне вовлечены в контент сообществ\n",
    "4) Низкая вовлеченность:\n",
    "   \n",
    "   catalog_other(разное) и video_group_main(главная страница сообщества) имеют минимальные показатели (по 1 осознанному просмотру). Это указывает на то, что пользователи редко заходят напрямую на стриницу сообщества, предпочитая поиск или рекомендации. Также это может указывать, что контент в этих разделах менее оптимизирован для удержания внимания.\n"
   ]
  },
  {
   "cell_type": "markdown",
   "id": "a8a77bc1-ca25-4182-91cc-c5f9713f800a",
   "metadata": {},
   "source": [
    "## 5 Итоговый вывод по исследовательскому анализу данных о просмотрах пользователей VK Видео за день"
   ]
  },
  {
   "cell_type": "markdown",
   "id": "b2f2dc7c-b92b-4a31-933b-f9cacb8dca6b",
   "metadata": {},
   "source": [
    "В ходе исследовательского анализа были удалены выбросы, проанализировано распределение осознанных просмотров по платформам и выявлен топ-10 сообществ по суммарному времени просмотров. Также дополнительно было изучено рапределение осознанных просмотров в зависимости от экрана просмотра."
   ]
  },
  {
   "cell_type": "markdown",
   "id": "c11fcf50-3d35-4599-bab8-c07c69c0fc56",
   "metadata": {},
   "source": [
    "### 5.1 Распределение данных и выбросы\n",
    "\n",
    "- В ходе очистки данных от выбросов были удалены отрицательные значения из столбцов `total_view_time` и `video_owner_id`. Также удалены аномально высокие значения столбца `total_view_time`(> 95 квантиля)\n",
    "- После удаления выбросов данные обладали правосторонней асимметрией: большинство сессий короткие (медиана = 0 сек), но присутствуют экстремальные значения (до 695 сек)."
   ]
  },
  {
   "cell_type": "markdown",
   "id": "62abc85d-ed48-4a1a-8181-8c17295fc165",
   "metadata": {},
   "source": [
    "### 5.2 Анализ осознанных просмотров. Распределение осознанных просмотров по платформам и экранам просмотров.\n",
    "\n",
    "Осознанные просмотры составляют всего 3.99% от общего числа просмотров, что свидетельствует о низкой вовлеченности аудитории в контент.\n",
    "\n",
    "Среди **платформ** осознанные просмотры распределились следующим образом:\n",
    "\n",
    "- **Android**: 128 осознанных просмотров(79.5% от общего числа)\n",
    "- **IOS**: 33 осознанных просмотров(20.5% от общего числа)\n",
    "\n",
    "Таким образом, пользователи Android проявляют больший интерес к контенту, чем пользователи IOS. Это может указывать на лучшую оптимизацией сервиса для пользователей Android.\n",
    "При дальнейшем анализе стоит изучить обладает ли разница в осознанных просмотров между Android и IOS статистической значимостью. А также изучить процентное соотнешение числа осознанных просмотров от общего числа просмотров на каждой платформе.\n",
    "\n",
    "**Экраны просмотров** влияют на вовлеченность пользователей следующи образом:\n",
    "\n",
    "- Рекомендации (`video_for_you`) и поиск (`video_search`) генерируют около 80% осознанных просмотров.\n",
    "- Прямые переходы в сообщества (`video_group_main`) практически не работают (1-2 просмотра)"
   ]
  },
  {
   "cell_type": "markdown",
   "id": "18fb0676-dc41-44a3-8d42-a9d50a5a5a2a",
   "metadata": {},
   "source": [
    "### 5.3 Топ-10 сообществ по времени просмотров\n",
    "\n",
    "Обнаружена резкая стратификация:\n",
    "- топ сообществ по времени просмотров явно поделен на 3 группы по суммарному времени просмотров\n",
    "- Разрыв между 1 и 10 местом достигает 5 кратного значения.\n",
    "\n",
    "Стоит обратить внимание на контент, который публикуют сообщества с 1 и 2 мест. Вероятнее всего высокое значение суммарного времени просмотров связано с вирусным контентом, который они публикуют. Также стоит изучить другие факторы, которые могут влиять на удержание пользователей."
   ]
  }
 ],
 "metadata": {
  "kernelspec": {
   "display_name": "Python [conda env:base] *",
   "language": "python",
   "name": "conda-base-py"
  },
  "language_info": {
   "codemirror_mode": {
    "name": "ipython",
    "version": 3
   },
   "file_extension": ".py",
   "mimetype": "text/x-python",
   "name": "python",
   "nbconvert_exporter": "python",
   "pygments_lexer": "ipython3",
   "version": "3.12.7"
  }
 },
 "nbformat": 4,
 "nbformat_minor": 5
}
