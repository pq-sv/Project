{
 "cells": [
  {
   "cell_type": "markdown",
   "id": "2a5ef3cc",
   "metadata": {
    "papermill": {
     "duration": 0.009772,
     "end_time": "2025-06-06T12:40:34.081721",
     "exception": false,
     "start_time": "2025-06-06T12:40:34.071949",
     "status": "completed"
    },
    "tags": []
   },
   "source": [
    "# Исследовательский анализ продаж Тако \n",
    "\n",
    "**Автор:** Кононов С.В."
   ]
  },
  {
   "cell_type": "markdown",
   "id": "08baead8",
   "metadata": {
    "papermill": {
     "duration": 0.008184,
     "end_time": "2025-06-06T12:40:34.099050",
     "exception": false,
     "start_time": "2025-06-06T12:40:34.090866",
     "status": "completed"
    },
    "tags": []
   },
   "source": [
    "## 1.1 Цель и задачи проекта\n",
    "\n",
    "**Цель:** провести исследовательский анализ данных, сформулировать гипотезы и проверить их с помощью статистического анализа.\n",
    "\n",
    "**Задачи:**\n",
    "\n",
    "1. Загрузить данные и познакомиться с их содержимым.\n",
    "2. Провести предобработку данных.\n",
    "3. Провести исследовательский анализ данных:\n",
    "- изучить популярность различных видов тако;\n",
    "- выяснить, в какие дни недели и часы заказывают больше всего;\n",
    "4. Сформулировать гипотезы.\n",
    "5. Проверить гипотезы с помощью статистического анализа.\n",
    "6. Сформулировать выводы по проведённому анализу."
   ]
  },
  {
   "cell_type": "markdown",
   "id": "f5e36fb7",
   "metadata": {
    "papermill": {
     "duration": 0.008652,
     "end_time": "2025-06-06T12:40:34.116712",
     "exception": false,
     "start_time": "2025-06-06T12:40:34.108060",
     "status": "completed"
    },
    "tags": []
   },
   "source": [
    "## 1.2 Описание данных\n",
    "\n",
    "**Названия файла:** `taco_sales_(2024-2025).csv`\n",
    "\n",
    "**Источник:** kaggle\n",
    "\n",
    "**Период:** 1 января 2024 года - 25 мая 2025 года\n",
    "\n",
    "**Описание датасета:**\n",
    "\n",
    "- Order ID - идентификатор заказа\n",
    "- Restaurant Name - название ресторана\n",
    "- Location - город в США, где был сделан заказ\n",
    "- Order Time - время совершения заказа\n",
    "- Delivery Time - время, когда заказ был доставлен\n",
    "- Delivery Duration (min) - длительность доставки(мин)\n",
    "- Taco Size - размер Тако\n",
    "- Taco Type - вид тако (например, с говядиной, курицей, овощами, рыбой, свининой)\n",
    "- Toppings Count - количество добавленных дополнительных начинок\n",
    "- Distance (km) - Расстояние от ресторана до клиента\n",
    "- Price (`$`) -\tцена\n",
    "- Tip (`$`) - чаевые\n",
    "- Weekend Order - заказ был сделан в выходные или нет"
   ]
  },
  {
   "cell_type": "markdown",
   "id": "1916f4b8",
   "metadata": {
    "papermill": {
     "duration": 0.008146,
     "end_time": "2025-06-06T12:40:34.133641",
     "exception": false,
     "start_time": "2025-06-06T12:40:34.125495",
     "status": "completed"
    },
    "tags": []
   },
   "source": [
    "## 2 Знакомство с данными"
   ]
  },
  {
   "cell_type": "markdown",
   "id": "7f6c9627",
   "metadata": {
    "papermill": {
     "duration": 0.00991,
     "end_time": "2025-06-06T12:40:34.153098",
     "exception": false,
     "start_time": "2025-06-06T12:40:34.143188",
     "status": "completed"
    },
    "tags": []
   },
   "source": [
    "### 2.1  Вывод общей информации"
   ]
  },
  {
   "cell_type": "code",
   "execution_count": 1,
   "id": "e3265a1d",
   "metadata": {
    "_cell_guid": "b1076dfc-b9ad-4769-8c92-a6c4dae69d19",
    "_uuid": "8f2839f25d086af736a60e9eeb907d3b93b6e0e5",
    "execution": {
     "iopub.execute_input": "2025-06-06T12:40:34.171939Z",
     "iopub.status.busy": "2025-06-06T12:40:34.171634Z",
     "iopub.status.idle": "2025-06-06T12:40:38.487574Z",
     "shell.execute_reply": "2025-06-06T12:40:38.486504Z"
    },
    "papermill": {
     "duration": 4.327749,
     "end_time": "2025-06-06T12:40:38.489328",
     "exception": false,
     "start_time": "2025-06-06T12:40:34.161579",
     "status": "completed"
    },
    "tags": []
   },
   "outputs": [],
   "source": [
    "import pandas as pd \n",
    "import matplotlib.pyplot as plt\n",
    "import seaborn as sns\n",
    "\n",
    "import scipy.stats as stats\n",
    "import statsmodels.stats.proportion as st"
   ]
  },
  {
   "cell_type": "code",
   "execution_count": 2,
   "id": "19bad073",
   "metadata": {
    "execution": {
     "iopub.execute_input": "2025-06-06T12:40:38.508127Z",
     "iopub.status.busy": "2025-06-06T12:40:38.507691Z",
     "iopub.status.idle": "2025-06-06T12:40:38.540652Z",
     "shell.execute_reply": "2025-06-06T12:40:38.539750Z"
    },
    "papermill": {
     "duration": 0.044687,
     "end_time": "2025-06-06T12:40:38.542495",
     "exception": false,
     "start_time": "2025-06-06T12:40:38.497808",
     "status": "completed"
    },
    "tags": []
   },
   "outputs": [],
   "source": [
    "df = pd.read_csv('/kaggle/input/taco-sales-dataset-20242025/taco_sales_(2024-2025).csv')"
   ]
  },
  {
   "cell_type": "code",
   "execution_count": 3,
   "id": "144d4887",
   "metadata": {
    "execution": {
     "iopub.execute_input": "2025-06-06T12:40:38.560854Z",
     "iopub.status.busy": "2025-06-06T12:40:38.560505Z",
     "iopub.status.idle": "2025-06-06T12:40:38.592570Z",
     "shell.execute_reply": "2025-06-06T12:40:38.591529Z"
    },
    "papermill": {
     "duration": 0.043494,
     "end_time": "2025-06-06T12:40:38.594567",
     "exception": false,
     "start_time": "2025-06-06T12:40:38.551073",
     "status": "completed"
    },
    "tags": []
   },
   "outputs": [
    {
     "data": {
      "text/html": [
       "<div>\n",
       "<style scoped>\n",
       "    .dataframe tbody tr th:only-of-type {\n",
       "        vertical-align: middle;\n",
       "    }\n",
       "\n",
       "    .dataframe tbody tr th {\n",
       "        vertical-align: top;\n",
       "    }\n",
       "\n",
       "    .dataframe thead th {\n",
       "        text-align: right;\n",
       "    }\n",
       "</style>\n",
       "<table border=\"1\" class=\"dataframe\">\n",
       "  <thead>\n",
       "    <tr style=\"text-align: right;\">\n",
       "      <th></th>\n",
       "      <th>Order ID</th>\n",
       "      <th>Restaurant Name</th>\n",
       "      <th>Location</th>\n",
       "      <th>Order Time</th>\n",
       "      <th>Delivery Time</th>\n",
       "      <th>Delivery Duration (min)</th>\n",
       "      <th>Taco Size</th>\n",
       "      <th>Taco Type</th>\n",
       "      <th>Toppings Count</th>\n",
       "      <th>Distance (km)</th>\n",
       "      <th>Price ($)</th>\n",
       "      <th>Tip ($)</th>\n",
       "      <th>Weekend Order</th>\n",
       "    </tr>\n",
       "  </thead>\n",
       "  <tbody>\n",
       "    <tr>\n",
       "      <th>0</th>\n",
       "      <td>770487</td>\n",
       "      <td>El Taco Loco</td>\n",
       "      <td>New York</td>\n",
       "      <td>01-08-2024 14:55</td>\n",
       "      <td>01-08-2024 15:36</td>\n",
       "      <td>41</td>\n",
       "      <td>Regular</td>\n",
       "      <td>Chicken Taco</td>\n",
       "      <td>5</td>\n",
       "      <td>3.01</td>\n",
       "      <td>9.25</td>\n",
       "      <td>2.22</td>\n",
       "      <td>False</td>\n",
       "    </tr>\n",
       "    <tr>\n",
       "      <th>1</th>\n",
       "      <td>671858</td>\n",
       "      <td>El Taco Loco</td>\n",
       "      <td>San Antonio</td>\n",
       "      <td>23-11-2024 17:11</td>\n",
       "      <td>23-11-2024 17:25</td>\n",
       "      <td>14</td>\n",
       "      <td>Regular</td>\n",
       "      <td>Beef Taco</td>\n",
       "      <td>1</td>\n",
       "      <td>6.20</td>\n",
       "      <td>4.25</td>\n",
       "      <td>3.01</td>\n",
       "      <td>True</td>\n",
       "    </tr>\n",
       "    <tr>\n",
       "      <th>2</th>\n",
       "      <td>688508</td>\n",
       "      <td>Taco Haven</td>\n",
       "      <td>Austin</td>\n",
       "      <td>21-11-2024 20:24</td>\n",
       "      <td>21-11-2024 21:02</td>\n",
       "      <td>38</td>\n",
       "      <td>Large</td>\n",
       "      <td>Pork Taco</td>\n",
       "      <td>2</td>\n",
       "      <td>20.33</td>\n",
       "      <td>7.00</td>\n",
       "      <td>0.02</td>\n",
       "      <td>False</td>\n",
       "    </tr>\n",
       "    <tr>\n",
       "      <th>3</th>\n",
       "      <td>944962</td>\n",
       "      <td>Spicy Taco House</td>\n",
       "      <td>Dallas</td>\n",
       "      <td>21-09-2024 06:43</td>\n",
       "      <td>21-09-2024 07:28</td>\n",
       "      <td>45</td>\n",
       "      <td>Regular</td>\n",
       "      <td>Chicken Taco</td>\n",
       "      <td>2</td>\n",
       "      <td>3.00</td>\n",
       "      <td>5.50</td>\n",
       "      <td>1.90</td>\n",
       "      <td>True</td>\n",
       "    </tr>\n",
       "    <tr>\n",
       "      <th>4</th>\n",
       "      <td>476417</td>\n",
       "      <td>Casa del Taco</td>\n",
       "      <td>San Antonio</td>\n",
       "      <td>24-07-2024 11:01</td>\n",
       "      <td>24-07-2024 11:16</td>\n",
       "      <td>15</td>\n",
       "      <td>Large</td>\n",
       "      <td>Pork Taco</td>\n",
       "      <td>0</td>\n",
       "      <td>24.34</td>\n",
       "      <td>4.50</td>\n",
       "      <td>1.14</td>\n",
       "      <td>False</td>\n",
       "    </tr>\n",
       "  </tbody>\n",
       "</table>\n",
       "</div>"
      ],
      "text/plain": [
       "   Order ID   Restaurant Name     Location        Order Time  \\\n",
       "0    770487      El Taco Loco     New York  01-08-2024 14:55   \n",
       "1    671858      El Taco Loco  San Antonio  23-11-2024 17:11   \n",
       "2    688508        Taco Haven       Austin  21-11-2024 20:24   \n",
       "3    944962  Spicy Taco House       Dallas  21-09-2024 06:43   \n",
       "4    476417     Casa del Taco  San Antonio  24-07-2024 11:01   \n",
       "\n",
       "      Delivery Time  Delivery Duration (min) Taco Size     Taco Type  \\\n",
       "0  01-08-2024 15:36                       41   Regular  Chicken Taco   \n",
       "1  23-11-2024 17:25                       14   Regular     Beef Taco   \n",
       "2  21-11-2024 21:02                       38     Large     Pork Taco   \n",
       "3  21-09-2024 07:28                       45   Regular  Chicken Taco   \n",
       "4  24-07-2024 11:16                       15     Large     Pork Taco   \n",
       "\n",
       "   Toppings Count  Distance (km)  Price ($)  Tip ($)  Weekend Order  \n",
       "0               5           3.01       9.25     2.22          False  \n",
       "1               1           6.20       4.25     3.01           True  \n",
       "2               2          20.33       7.00     0.02          False  \n",
       "3               2           3.00       5.50     1.90           True  \n",
       "4               0          24.34       4.50     1.14          False  "
      ]
     },
     "execution_count": 3,
     "metadata": {},
     "output_type": "execute_result"
    }
   ],
   "source": [
    "df.head()"
   ]
  },
  {
   "cell_type": "code",
   "execution_count": 4,
   "id": "56548f54",
   "metadata": {
    "execution": {
     "iopub.execute_input": "2025-06-06T12:40:38.614607Z",
     "iopub.status.busy": "2025-06-06T12:40:38.613907Z",
     "iopub.status.idle": "2025-06-06T12:40:38.640469Z",
     "shell.execute_reply": "2025-06-06T12:40:38.639309Z"
    },
    "papermill": {
     "duration": 0.038235,
     "end_time": "2025-06-06T12:40:38.642214",
     "exception": false,
     "start_time": "2025-06-06T12:40:38.603979",
     "status": "completed"
    },
    "tags": []
   },
   "outputs": [
    {
     "name": "stdout",
     "output_type": "stream",
     "text": [
      "<class 'pandas.core.frame.DataFrame'>\n",
      "RangeIndex: 1000 entries, 0 to 999\n",
      "Data columns (total 13 columns):\n",
      " #   Column                   Non-Null Count  Dtype  \n",
      "---  ------                   --------------  -----  \n",
      " 0   Order ID                 1000 non-null   int64  \n",
      " 1   Restaurant Name          1000 non-null   object \n",
      " 2   Location                 1000 non-null   object \n",
      " 3   Order Time               1000 non-null   object \n",
      " 4   Delivery Time            1000 non-null   object \n",
      " 5   Delivery Duration (min)  1000 non-null   int64  \n",
      " 6   Taco Size                1000 non-null   object \n",
      " 7   Taco Type                1000 non-null   object \n",
      " 8   Toppings Count           1000 non-null   int64  \n",
      " 9   Distance (km)            1000 non-null   float64\n",
      " 10  Price ($)                1000 non-null   float64\n",
      " 11  Tip ($)                  1000 non-null   float64\n",
      " 12  Weekend Order            1000 non-null   bool   \n",
      "dtypes: bool(1), float64(3), int64(3), object(6)\n",
      "memory usage: 94.9+ KB\n"
     ]
    }
   ],
   "source": [
    "df.info()"
   ]
  },
  {
   "cell_type": "code",
   "execution_count": 5,
   "id": "b05c91ce",
   "metadata": {
    "execution": {
     "iopub.execute_input": "2025-06-06T12:40:38.662259Z",
     "iopub.status.busy": "2025-06-06T12:40:38.661863Z",
     "iopub.status.idle": "2025-06-06T12:40:38.696327Z",
     "shell.execute_reply": "2025-06-06T12:40:38.695436Z"
    },
    "papermill": {
     "duration": 0.04617,
     "end_time": "2025-06-06T12:40:38.697829",
     "exception": false,
     "start_time": "2025-06-06T12:40:38.651659",
     "status": "completed"
    },
    "tags": []
   },
   "outputs": [
    {
     "data": {
      "text/html": [
       "<div>\n",
       "<style scoped>\n",
       "    .dataframe tbody tr th:only-of-type {\n",
       "        vertical-align: middle;\n",
       "    }\n",
       "\n",
       "    .dataframe tbody tr th {\n",
       "        vertical-align: top;\n",
       "    }\n",
       "\n",
       "    .dataframe thead th {\n",
       "        text-align: right;\n",
       "    }\n",
       "</style>\n",
       "<table border=\"1\" class=\"dataframe\">\n",
       "  <thead>\n",
       "    <tr style=\"text-align: right;\">\n",
       "      <th></th>\n",
       "      <th>count</th>\n",
       "      <th>mean</th>\n",
       "      <th>std</th>\n",
       "      <th>min</th>\n",
       "      <th>25%</th>\n",
       "      <th>50%</th>\n",
       "      <th>75%</th>\n",
       "      <th>max</th>\n",
       "    </tr>\n",
       "  </thead>\n",
       "  <tbody>\n",
       "    <tr>\n",
       "      <th>Order ID</th>\n",
       "      <td>1000.0</td>\n",
       "      <td>552504.86500</td>\n",
       "      <td>255948.779709</td>\n",
       "      <td>101139.00</td>\n",
       "      <td>331796.7500</td>\n",
       "      <td>559740.00</td>\n",
       "      <td>771781.7500</td>\n",
       "      <td>999138.00</td>\n",
       "    </tr>\n",
       "    <tr>\n",
       "      <th>Delivery Duration (min)</th>\n",
       "      <td>1000.0</td>\n",
       "      <td>50.93000</td>\n",
       "      <td>23.227540</td>\n",
       "      <td>10.00</td>\n",
       "      <td>30.0000</td>\n",
       "      <td>53.00</td>\n",
       "      <td>71.0000</td>\n",
       "      <td>90.00</td>\n",
       "    </tr>\n",
       "    <tr>\n",
       "      <th>Toppings Count</th>\n",
       "      <td>1000.0</td>\n",
       "      <td>2.52900</td>\n",
       "      <td>1.717005</td>\n",
       "      <td>0.00</td>\n",
       "      <td>1.0000</td>\n",
       "      <td>3.00</td>\n",
       "      <td>4.0000</td>\n",
       "      <td>5.00</td>\n",
       "    </tr>\n",
       "    <tr>\n",
       "      <th>Distance (km)</th>\n",
       "      <td>1000.0</td>\n",
       "      <td>13.07342</td>\n",
       "      <td>7.142268</td>\n",
       "      <td>0.51</td>\n",
       "      <td>6.9725</td>\n",
       "      <td>13.20</td>\n",
       "      <td>19.2425</td>\n",
       "      <td>24.98</td>\n",
       "    </tr>\n",
       "    <tr>\n",
       "      <th>Price ($)</th>\n",
       "      <td>1000.0</td>\n",
       "      <td>6.90825</td>\n",
       "      <td>2.310137</td>\n",
       "      <td>3.00</td>\n",
       "      <td>4.5000</td>\n",
       "      <td>6.75</td>\n",
       "      <td>9.2500</td>\n",
       "      <td>10.75</td>\n",
       "    </tr>\n",
       "    <tr>\n",
       "      <th>Tip ($)</th>\n",
       "      <td>1000.0</td>\n",
       "      <td>1.80611</td>\n",
       "      <td>1.132035</td>\n",
       "      <td>0.01</td>\n",
       "      <td>0.9075</td>\n",
       "      <td>1.76</td>\n",
       "      <td>2.5200</td>\n",
       "      <td>4.98</td>\n",
       "    </tr>\n",
       "  </tbody>\n",
       "</table>\n",
       "</div>"
      ],
      "text/plain": [
       "                          count          mean            std        min  \\\n",
       "Order ID                 1000.0  552504.86500  255948.779709  101139.00   \n",
       "Delivery Duration (min)  1000.0      50.93000      23.227540      10.00   \n",
       "Toppings Count           1000.0       2.52900       1.717005       0.00   \n",
       "Distance (km)            1000.0      13.07342       7.142268       0.51   \n",
       "Price ($)                1000.0       6.90825       2.310137       3.00   \n",
       "Tip ($)                  1000.0       1.80611       1.132035       0.01   \n",
       "\n",
       "                                 25%        50%          75%        max  \n",
       "Order ID                 331796.7500  559740.00  771781.7500  999138.00  \n",
       "Delivery Duration (min)      30.0000      53.00      71.0000      90.00  \n",
       "Toppings Count                1.0000       3.00       4.0000       5.00  \n",
       "Distance (km)                 6.9725      13.20      19.2425      24.98  \n",
       "Price ($)                     4.5000       6.75       9.2500      10.75  \n",
       "Tip ($)                       0.9075       1.76       2.5200       4.98  "
      ]
     },
     "execution_count": 5,
     "metadata": {},
     "output_type": "execute_result"
    }
   ],
   "source": [
    "df.describe().transpose()"
   ]
  },
  {
   "cell_type": "code",
   "execution_count": 6,
   "id": "de54f810",
   "metadata": {
    "execution": {
     "iopub.execute_input": "2025-06-06T12:40:38.717277Z",
     "iopub.status.busy": "2025-06-06T12:40:38.716894Z",
     "iopub.status.idle": "2025-06-06T12:40:38.725870Z",
     "shell.execute_reply": "2025-06-06T12:40:38.724859Z"
    },
    "papermill": {
     "duration": 0.020556,
     "end_time": "2025-06-06T12:40:38.727413",
     "exception": false,
     "start_time": "2025-06-06T12:40:38.706857",
     "status": "completed"
    },
    "tags": []
   },
   "outputs": [
    {
     "data": {
      "text/plain": [
       "0"
      ]
     },
     "execution_count": 6,
     "metadata": {},
     "output_type": "execute_result"
    }
   ],
   "source": [
    "df.duplicated().sum()"
   ]
  },
  {
   "cell_type": "markdown",
   "id": "985ea25b",
   "metadata": {
    "papermill": {
     "duration": 0.008657,
     "end_time": "2025-06-06T12:40:38.745143",
     "exception": false,
     "start_time": "2025-06-06T12:40:38.736486",
     "status": "completed"
    },
    "tags": []
   },
   "source": [
    "### 2.2 Промежуточный вывод по датасету "
   ]
  },
  {
   "cell_type": "markdown",
   "id": "78ae145d",
   "metadata": {
    "execution": {
     "iopub.execute_input": "2025-06-03T14:02:03.741721Z",
     "iopub.status.busy": "2025-06-03T14:02:03.741234Z",
     "iopub.status.idle": "2025-06-03T14:02:03.751827Z",
     "shell.execute_reply": "2025-06-03T14:02:03.750145Z",
     "shell.execute_reply.started": "2025-06-03T14:02:03.741693Z"
    },
    "papermill": {
     "duration": 0.010705,
     "end_time": "2025-06-06T12:40:38.764975",
     "exception": false,
     "start_time": "2025-06-06T12:40:38.754270",
     "status": "completed"
    },
    "tags": []
   },
   "source": [
    "Датасет `df` содержит 13 столбцов и 1000 строк.\n",
    "\n",
    "- 3 столбца представлены в формате float64, 3 в int64, 6 в object и 1 в bool\n",
    "- Столбцы Order Time и Delivery Time содержат информацию о дате и времени заказа и доставки соответственно. Приведем их к формату datetime\n",
    "- Для более удобной работы приведем столбцы к формату snake_case, а также удалим приписки (min), (km) и ($)\n",
    "- В данных нет пропусков и не обнаружено явных дубликатов\n",
    "- На первый взгляд в столбцах с числовыми данными отсутствуют выбросы (медиана и среднее близки)"
   ]
  },
  {
   "cell_type": "markdown",
   "id": "a717c9c5",
   "metadata": {
    "execution": {
     "iopub.execute_input": "2025-06-03T14:06:37.847112Z",
     "iopub.status.busy": "2025-06-03T14:06:37.846805Z",
     "iopub.status.idle": "2025-06-03T14:06:37.851601Z",
     "shell.execute_reply": "2025-06-03T14:06:37.850520Z",
     "shell.execute_reply.started": "2025-06-03T14:06:37.847092Z"
    },
    "papermill": {
     "duration": 0.008747,
     "end_time": "2025-06-06T12:40:38.782811",
     "exception": false,
     "start_time": "2025-06-06T12:40:38.774064",
     "status": "completed"
    },
    "tags": []
   },
   "source": [
    "## 3 Предобработка данных"
   ]
  },
  {
   "cell_type": "markdown",
   "id": "37e94fd4",
   "metadata": {
    "papermill": {
     "duration": 0.008901,
     "end_time": "2025-06-06T12:40:38.801119",
     "exception": false,
     "start_time": "2025-06-06T12:40:38.792218",
     "status": "completed"
    },
    "tags": []
   },
   "source": [
    "### 3.1 Меняем типы данных в столбцах, которые хранят значения даты и времени"
   ]
  },
  {
   "cell_type": "code",
   "execution_count": 7,
   "id": "66814e4e",
   "metadata": {
    "execution": {
     "iopub.execute_input": "2025-06-06T12:40:38.822203Z",
     "iopub.status.busy": "2025-06-06T12:40:38.821814Z",
     "iopub.status.idle": "2025-06-06T12:40:38.845780Z",
     "shell.execute_reply": "2025-06-06T12:40:38.844731Z"
    },
    "papermill": {
     "duration": 0.036659,
     "end_time": "2025-06-06T12:40:38.847317",
     "exception": false,
     "start_time": "2025-06-06T12:40:38.810658",
     "status": "completed"
    },
    "tags": []
   },
   "outputs": [
    {
     "name": "stdout",
     "output_type": "stream",
     "text": [
      "<class 'pandas.core.frame.DataFrame'>\n",
      "RangeIndex: 1000 entries, 0 to 999\n",
      "Data columns (total 13 columns):\n",
      " #   Column                   Non-Null Count  Dtype         \n",
      "---  ------                   --------------  -----         \n",
      " 0   Order ID                 1000 non-null   int64         \n",
      " 1   Restaurant Name          1000 non-null   object        \n",
      " 2   Location                 1000 non-null   object        \n",
      " 3   Order Time               1000 non-null   datetime64[ns]\n",
      " 4   Delivery Time            1000 non-null   datetime64[ns]\n",
      " 5   Delivery Duration (min)  1000 non-null   int64         \n",
      " 6   Taco Size                1000 non-null   object        \n",
      " 7   Taco Type                1000 non-null   object        \n",
      " 8   Toppings Count           1000 non-null   int64         \n",
      " 9   Distance (km)            1000 non-null   float64       \n",
      " 10  Price ($)                1000 non-null   float64       \n",
      " 11  Tip ($)                  1000 non-null   float64       \n",
      " 12  Weekend Order            1000 non-null   bool          \n",
      "dtypes: bool(1), datetime64[ns](2), float64(3), int64(3), object(4)\n",
      "memory usage: 94.9+ KB\n"
     ]
    }
   ],
   "source": [
    "df['Order Time'] = pd.to_datetime(df['Order Time'], format='%d-%m-%Y %H:%M')\n",
    "df['Delivery Time'] = pd.to_datetime(df['Delivery Time'], format='%d-%m-%Y %H:%M')\n",
    "df.info()"
   ]
  },
  {
   "cell_type": "markdown",
   "id": "2b31657e",
   "metadata": {
    "papermill": {
     "duration": 0.074145,
     "end_time": "2025-06-06T12:40:38.932127",
     "exception": false,
     "start_time": "2025-06-06T12:40:38.857982",
     "status": "completed"
    },
    "tags": []
   },
   "source": [
    "### 3.2 Приводим столбцы к более удобному формату"
   ]
  },
  {
   "cell_type": "code",
   "execution_count": 8,
   "id": "c33bdb82",
   "metadata": {
    "execution": {
     "iopub.execute_input": "2025-06-06T12:40:38.953524Z",
     "iopub.status.busy": "2025-06-06T12:40:38.952789Z",
     "iopub.status.idle": "2025-06-06T12:40:38.959581Z",
     "shell.execute_reply": "2025-06-06T12:40:38.958503Z"
    },
    "papermill": {
     "duration": 0.019492,
     "end_time": "2025-06-06T12:40:38.961137",
     "exception": false,
     "start_time": "2025-06-06T12:40:38.941645",
     "status": "completed"
    },
    "tags": []
   },
   "outputs": [],
   "source": [
    "# удаляем приписки (min), (km) и ($)\n",
    "df = df.rename(columns = {'Delivery Duration (min)':'Delivery Duration',\n",
    "                          'Distance (km)': 'Distance',\n",
    "                          'Price ($)': 'Price',\n",
    "                          'Tip ($)': 'Tip'\n",
    "                         })"
   ]
  },
  {
   "cell_type": "code",
   "execution_count": 9,
   "id": "1193f32f",
   "metadata": {
    "execution": {
     "iopub.execute_input": "2025-06-06T12:40:38.980577Z",
     "iopub.status.busy": "2025-06-06T12:40:38.980246Z",
     "iopub.status.idle": "2025-06-06T12:40:38.984718Z",
     "shell.execute_reply": "2025-06-06T12:40:38.983870Z"
    },
    "papermill": {
     "duration": 0.016035,
     "end_time": "2025-06-06T12:40:38.986320",
     "exception": false,
     "start_time": "2025-06-06T12:40:38.970285",
     "status": "completed"
    },
    "tags": []
   },
   "outputs": [],
   "source": [
    "# функция, которая приводит названия столбцов к формату snake_case\n",
    "def snake_case(column):\n",
    "    column = column.lower()\n",
    "    column = column.replace(' ', '_')\n",
    "    return column"
   ]
  },
  {
   "cell_type": "code",
   "execution_count": 10,
   "id": "7dda194c",
   "metadata": {
    "execution": {
     "iopub.execute_input": "2025-06-06T12:40:39.006295Z",
     "iopub.status.busy": "2025-06-06T12:40:39.005926Z",
     "iopub.status.idle": "2025-06-06T12:40:39.018774Z",
     "shell.execute_reply": "2025-06-06T12:40:39.017560Z"
    },
    "papermill": {
     "duration": 0.024488,
     "end_time": "2025-06-06T12:40:39.020104",
     "exception": false,
     "start_time": "2025-06-06T12:40:38.995616",
     "status": "completed"
    },
    "tags": []
   },
   "outputs": [
    {
     "name": "stdout",
     "output_type": "stream",
     "text": [
      "<class 'pandas.core.frame.DataFrame'>\n",
      "RangeIndex: 1000 entries, 0 to 999\n",
      "Data columns (total 13 columns):\n",
      " #   Column             Non-Null Count  Dtype         \n",
      "---  ------             --------------  -----         \n",
      " 0   order_id           1000 non-null   int64         \n",
      " 1   restaurant_name    1000 non-null   object        \n",
      " 2   location           1000 non-null   object        \n",
      " 3   order_time         1000 non-null   datetime64[ns]\n",
      " 4   delivery_time      1000 non-null   datetime64[ns]\n",
      " 5   delivery_duration  1000 non-null   int64         \n",
      " 6   taco_size          1000 non-null   object        \n",
      " 7   taco_type          1000 non-null   object        \n",
      " 8   toppings_count     1000 non-null   int64         \n",
      " 9   distance           1000 non-null   float64       \n",
      " 10  price              1000 non-null   float64       \n",
      " 11  tip                1000 non-null   float64       \n",
      " 12  weekend_order      1000 non-null   bool          \n",
      "dtypes: bool(1), datetime64[ns](2), float64(3), int64(3), object(4)\n",
      "memory usage: 94.9+ KB\n"
     ]
    }
   ],
   "source": [
    "df.columns = [snake_case(column) for column in df.columns]\n",
    "df.info()"
   ]
  },
  {
   "cell_type": "markdown",
   "id": "f8c93914",
   "metadata": {
    "papermill": {
     "duration": 0.009279,
     "end_time": "2025-06-06T12:40:39.038800",
     "exception": false,
     "start_time": "2025-06-06T12:40:39.029521",
     "status": "completed"
    },
    "tags": []
   },
   "source": [
    "### 3.3 Результаты предобработки\n",
    "\n",
    "В ходе предобработки названия столбцов датафрейма были приведены к удобному для дальнейшей работы формату. Столбцы, содержащие информацию о дате и времени, были приведены к формату datetime64"
   ]
  },
  {
   "cell_type": "markdown",
   "id": "347e8877",
   "metadata": {
    "execution": {
     "iopub.execute_input": "2025-06-03T14:41:14.636327Z",
     "iopub.status.busy": "2025-06-03T14:41:14.635343Z",
     "iopub.status.idle": "2025-06-03T14:41:14.640822Z",
     "shell.execute_reply": "2025-06-03T14:41:14.639703Z",
     "shell.execute_reply.started": "2025-06-03T14:41:14.636293Z"
    },
    "papermill": {
     "duration": 0.011243,
     "end_time": "2025-06-06T12:40:39.060074",
     "exception": false,
     "start_time": "2025-06-06T12:40:39.048831",
     "status": "completed"
    },
    "tags": []
   },
   "source": [
    "## 4 Анализ данных и поиск инсайтов"
   ]
  },
  {
   "cell_type": "markdown",
   "id": "24c44b3f",
   "metadata": {
    "papermill": {
     "duration": 0.009168,
     "end_time": "2025-06-06T12:40:39.078817",
     "exception": false,
     "start_time": "2025-06-06T12:40:39.069649",
     "status": "completed"
    },
    "tags": []
   },
   "source": [
    "### 4.1 Выявление самых популярных видов тако"
   ]
  },
  {
   "cell_type": "code",
   "execution_count": 11,
   "id": "22814d57",
   "metadata": {
    "execution": {
     "iopub.execute_input": "2025-06-06T12:40:39.101613Z",
     "iopub.status.busy": "2025-06-06T12:40:39.100672Z",
     "iopub.status.idle": "2025-06-06T12:40:39.112401Z",
     "shell.execute_reply": "2025-06-06T12:40:39.111620Z"
    },
    "papermill": {
     "duration": 0.024971,
     "end_time": "2025-06-06T12:40:39.113858",
     "exception": false,
     "start_time": "2025-06-06T12:40:39.088887",
     "status": "completed"
    },
    "tags": []
   },
   "outputs": [
    {
     "data": {
      "text/html": [
       "<div>\n",
       "<style scoped>\n",
       "    .dataframe tbody tr th:only-of-type {\n",
       "        vertical-align: middle;\n",
       "    }\n",
       "\n",
       "    .dataframe tbody tr th {\n",
       "        vertical-align: top;\n",
       "    }\n",
       "\n",
       "    .dataframe thead th {\n",
       "        text-align: right;\n",
       "    }\n",
       "</style>\n",
       "<table border=\"1\" class=\"dataframe\">\n",
       "  <thead>\n",
       "    <tr style=\"text-align: right;\">\n",
       "      <th></th>\n",
       "      <th>taco_type</th>\n",
       "      <th>count</th>\n",
       "      <th>percent_count</th>\n",
       "    </tr>\n",
       "  </thead>\n",
       "  <tbody>\n",
       "    <tr>\n",
       "      <th>0</th>\n",
       "      <td>Chicken Taco</td>\n",
       "      <td>218</td>\n",
       "      <td>21.8</td>\n",
       "    </tr>\n",
       "    <tr>\n",
       "      <th>1</th>\n",
       "      <td>Fish Taco</td>\n",
       "      <td>211</td>\n",
       "      <td>21.1</td>\n",
       "    </tr>\n",
       "    <tr>\n",
       "      <th>2</th>\n",
       "      <td>Veggie Taco</td>\n",
       "      <td>197</td>\n",
       "      <td>19.7</td>\n",
       "    </tr>\n",
       "    <tr>\n",
       "      <th>3</th>\n",
       "      <td>Pork Taco</td>\n",
       "      <td>192</td>\n",
       "      <td>19.2</td>\n",
       "    </tr>\n",
       "    <tr>\n",
       "      <th>4</th>\n",
       "      <td>Beef Taco</td>\n",
       "      <td>182</td>\n",
       "      <td>18.2</td>\n",
       "    </tr>\n",
       "  </tbody>\n",
       "</table>\n",
       "</div>"
      ],
      "text/plain": [
       "      taco_type  count  percent_count\n",
       "0  Chicken Taco    218           21.8\n",
       "1     Fish Taco    211           21.1\n",
       "2   Veggie Taco    197           19.7\n",
       "3     Pork Taco    192           19.2\n",
       "4     Beef Taco    182           18.2"
      ]
     },
     "execution_count": 11,
     "metadata": {},
     "output_type": "execute_result"
    }
   ],
   "source": [
    "top_taco_type = df['taco_type'].value_counts().reset_index()\n",
    "top_taco_type['percent_count'] = top_taco_type['count'] / top_taco_type['count'].sum() * 100\n",
    "top_taco_type"
   ]
  },
  {
   "cell_type": "code",
   "execution_count": 12,
   "id": "6695539c",
   "metadata": {
    "execution": {
     "iopub.execute_input": "2025-06-06T12:40:39.134188Z",
     "iopub.status.busy": "2025-06-06T12:40:39.133810Z",
     "iopub.status.idle": "2025-06-06T12:40:39.438770Z",
     "shell.execute_reply": "2025-06-06T12:40:39.437699Z"
    },
    "papermill": {
     "duration": 0.317244,
     "end_time": "2025-06-06T12:40:39.440759",
     "exception": false,
     "start_time": "2025-06-06T12:40:39.123515",
     "status": "completed"
    },
    "tags": []
   },
   "outputs": [
    {
     "data": {
      "image/png": "[encoded data removed]",
      "text/plain": [
       "<Figure size 800x500 with 1 Axes>"
      ]
     },
     "metadata": {},
     "output_type": "display_data"
    }
   ],
   "source": [
    "plt.figure(figsize=(8,5))\n",
    "\n",
    "sns.set_palette('pastel')\n",
    "\n",
    "sns.barplot(data = top_taco_type,\n",
    "            x = 'taco_type',\n",
    "            y = 'count',\n",
    "            edgecolor = 'black'\n",
    "           )\n",
    "\n",
    "plt.title('Топ видов тако')\n",
    "plt.xlabel('Вид тако')\n",
    "plt.ylabel('Количество заказов')\n",
    "\n",
    "plt.grid(axis='y')\n",
    "\n",
    "plt.show()"
   ]
  },
  {
   "cell_type": "markdown",
   "id": "fca2d019",
   "metadata": {
    "papermill": {
     "duration": 0.009892,
     "end_time": "2025-06-06T12:40:39.461851",
     "exception": false,
     "start_time": "2025-06-06T12:40:39.451959",
     "status": "completed"
    },
    "tags": []
   },
   "source": [
    "### 4.2 Вывод о популярности видов тако\n",
    "\n",
    "Куриные тако (Chicken Taco) лидируют по популярности - 218 заказов (21.8%), незначительно опережая рыбные (Fish Taco — 211 заказов, 21.1%). Овощные (Veggie Taco) и свиные (Pork Taco) варианты имеют сопоставимый спрос (190-200 заказов, 19-20%), тогда как говяжьи (Beef Taco) наименее востребованы (182 заказа, 18.2%). "
   ]
  },
  {
   "cell_type": "markdown",
   "id": "4d316ef2",
   "metadata": {
    "papermill": {
     "duration": 0.009756,
     "end_time": "2025-06-06T12:40:39.481903",
     "exception": false,
     "start_time": "2025-06-06T12:40:39.472147",
     "status": "completed"
    },
    "tags": []
   },
   "source": [
    "### 4.3 Зависимость количества заказов тако от дня недели и времени заказа "
   ]
  },
  {
   "cell_type": "markdown",
   "id": "5fef1f8d",
   "metadata": {
    "papermill": {
     "duration": 0.009779,
     "end_time": "2025-06-06T12:40:39.502037",
     "exception": false,
     "start_time": "2025-06-06T12:40:39.492258",
     "status": "completed"
    },
    "tags": []
   },
   "source": [
    "#### 4.3.1 Зависимость от дня недели"
   ]
  },
  {
   "cell_type": "code",
   "execution_count": 13,
   "id": "a0c762d0",
   "metadata": {
    "_kg_hide-input": true,
    "execution": {
     "iopub.execute_input": "2025-06-06T12:40:39.524530Z",
     "iopub.status.busy": "2025-06-06T12:40:39.524042Z",
     "iopub.status.idle": "2025-06-06T12:40:39.542413Z",
     "shell.execute_reply": "2025-06-06T12:40:39.541412Z"
    },
    "papermill": {
     "duration": 0.031441,
     "end_time": "2025-06-06T12:40:39.544378",
     "exception": false,
     "start_time": "2025-06-06T12:40:39.512937",
     "status": "completed"
    },
    "tags": []
   },
   "outputs": [
    {
     "data": {
      "text/html": [
       "<div>\n",
       "<style scoped>\n",
       "    .dataframe tbody tr th:only-of-type {\n",
       "        vertical-align: middle;\n",
       "    }\n",
       "\n",
       "    .dataframe tbody tr th {\n",
       "        vertical-align: top;\n",
       "    }\n",
       "\n",
       "    .dataframe thead th {\n",
       "        text-align: right;\n",
       "    }\n",
       "</style>\n",
       "<table border=\"1\" class=\"dataframe\">\n",
       "  <thead>\n",
       "    <tr style=\"text-align: right;\">\n",
       "      <th></th>\n",
       "      <th>order_id</th>\n",
       "      <th>restaurant_name</th>\n",
       "      <th>location</th>\n",
       "      <th>order_time</th>\n",
       "      <th>delivery_time</th>\n",
       "      <th>delivery_duration</th>\n",
       "      <th>taco_size</th>\n",
       "      <th>taco_type</th>\n",
       "      <th>toppings_count</th>\n",
       "      <th>distance</th>\n",
       "      <th>price</th>\n",
       "      <th>tip</th>\n",
       "      <th>weekend_order</th>\n",
       "      <th>day_of_week</th>\n",
       "    </tr>\n",
       "  </thead>\n",
       "  <tbody>\n",
       "    <tr>\n",
       "      <th>0</th>\n",
       "      <td>770487</td>\n",
       "      <td>El Taco Loco</td>\n",
       "      <td>New York</td>\n",
       "      <td>2024-08-01 14:55:00</td>\n",
       "      <td>2024-08-01 15:36:00</td>\n",
       "      <td>41</td>\n",
       "      <td>Regular</td>\n",
       "      <td>Chicken Taco</td>\n",
       "      <td>5</td>\n",
       "      <td>3.01</td>\n",
       "      <td>9.25</td>\n",
       "      <td>2.22</td>\n",
       "      <td>False</td>\n",
       "      <td>Thursday</td>\n",
       "    </tr>\n",
       "    <tr>\n",
       "      <th>1</th>\n",
       "      <td>671858</td>\n",
       "      <td>El Taco Loco</td>\n",
       "      <td>San Antonio</td>\n",
       "      <td>2024-11-23 17:11:00</td>\n",
       "      <td>2024-11-23 17:25:00</td>\n",
       "      <td>14</td>\n",
       "      <td>Regular</td>\n",
       "      <td>Beef Taco</td>\n",
       "      <td>1</td>\n",
       "      <td>6.20</td>\n",
       "      <td>4.25</td>\n",
       "      <td>3.01</td>\n",
       "      <td>True</td>\n",
       "      <td>Saturday</td>\n",
       "    </tr>\n",
       "    <tr>\n",
       "      <th>2</th>\n",
       "      <td>688508</td>\n",
       "      <td>Taco Haven</td>\n",
       "      <td>Austin</td>\n",
       "      <td>2024-11-21 20:24:00</td>\n",
       "      <td>2024-11-21 21:02:00</td>\n",
       "      <td>38</td>\n",
       "      <td>Large</td>\n",
       "      <td>Pork Taco</td>\n",
       "      <td>2</td>\n",
       "      <td>20.33</td>\n",
       "      <td>7.00</td>\n",
       "      <td>0.02</td>\n",
       "      <td>False</td>\n",
       "      <td>Thursday</td>\n",
       "    </tr>\n",
       "    <tr>\n",
       "      <th>3</th>\n",
       "      <td>944962</td>\n",
       "      <td>Spicy Taco House</td>\n",
       "      <td>Dallas</td>\n",
       "      <td>2024-09-21 06:43:00</td>\n",
       "      <td>2024-09-21 07:28:00</td>\n",
       "      <td>45</td>\n",
       "      <td>Regular</td>\n",
       "      <td>Chicken Taco</td>\n",
       "      <td>2</td>\n",
       "      <td>3.00</td>\n",
       "      <td>5.50</td>\n",
       "      <td>1.90</td>\n",
       "      <td>True</td>\n",
       "      <td>Saturday</td>\n",
       "    </tr>\n",
       "    <tr>\n",
       "      <th>4</th>\n",
       "      <td>476417</td>\n",
       "      <td>Casa del Taco</td>\n",
       "      <td>San Antonio</td>\n",
       "      <td>2024-07-24 11:01:00</td>\n",
       "      <td>2024-07-24 11:16:00</td>\n",
       "      <td>15</td>\n",
       "      <td>Large</td>\n",
       "      <td>Pork Taco</td>\n",
       "      <td>0</td>\n",
       "      <td>24.34</td>\n",
       "      <td>4.50</td>\n",
       "      <td>1.14</td>\n",
       "      <td>False</td>\n",
       "      <td>Wednesday</td>\n",
       "    </tr>\n",
       "  </tbody>\n",
       "</table>\n",
       "</div>"
      ],
      "text/plain": [
       "   order_id   restaurant_name     location          order_time  \\\n",
       "0    770487      El Taco Loco     New York 2024-08-01 14:55:00   \n",
       "1    671858      El Taco Loco  San Antonio 2024-11-23 17:11:00   \n",
       "2    688508        Taco Haven       Austin 2024-11-21 20:24:00   \n",
       "3    944962  Spicy Taco House       Dallas 2024-09-21 06:43:00   \n",
       "4    476417     Casa del Taco  San Antonio 2024-07-24 11:01:00   \n",
       "\n",
       "        delivery_time  delivery_duration taco_size     taco_type  \\\n",
       "0 2024-08-01 15:36:00                 41   Regular  Chicken Taco   \n",
       "1 2024-11-23 17:25:00                 14   Regular     Beef Taco   \n",
       "2 2024-11-21 21:02:00                 38     Large     Pork Taco   \n",
       "3 2024-09-21 07:28:00                 45   Regular  Chicken Taco   \n",
       "4 2024-07-24 11:16:00                 15     Large     Pork Taco   \n",
       "\n",
       "   toppings_count  distance  price   tip  weekend_order day_of_week  \n",
       "0               5      3.01   9.25  2.22          False    Thursday  \n",
       "1               1      6.20   4.25  3.01           True    Saturday  \n",
       "2               2     20.33   7.00  0.02          False    Thursday  \n",
       "3               2      3.00   5.50  1.90           True    Saturday  \n",
       "4               0     24.34   4.50  1.14          False   Wednesday  "
      ]
     },
     "execution_count": 13,
     "metadata": {},
     "output_type": "execute_result"
    }
   ],
   "source": [
    "# добавим новый столбец с названием дня недели в датафрейм\n",
    "df['day_of_week'] = df['order_time'].dt.day_name()\n",
    "df.head()"
   ]
  },
  {
   "cell_type": "code",
   "execution_count": 14,
   "id": "778fe446",
   "metadata": {
    "execution": {
     "iopub.execute_input": "2025-06-06T12:40:39.566695Z",
     "iopub.status.busy": "2025-06-06T12:40:39.565842Z",
     "iopub.status.idle": "2025-06-06T12:40:39.574724Z",
     "shell.execute_reply": "2025-06-06T12:40:39.573859Z"
    },
    "papermill": {
     "duration": 0.021556,
     "end_time": "2025-06-06T12:40:39.576488",
     "exception": false,
     "start_time": "2025-06-06T12:40:39.554932",
     "status": "completed"
    },
    "tags": []
   },
   "outputs": [
    {
     "data": {
      "text/plain": [
       "day_of_week\n",
       "Monday       167\n",
       "Tuesday      145\n",
       "Wednesday    149\n",
       "Thursday     128\n",
       "Friday       136\n",
       "Saturday     142\n",
       "Sunday       133\n",
       "Name: order_id, dtype: int64"
      ]
     },
     "execution_count": 14,
     "metadata": {},
     "output_type": "execute_result"
    }
   ],
   "source": [
    "days_order = ['Monday', 'Tuesday', 'Wednesday', 'Thursday', 'Friday', 'Saturday', 'Sunday']\n",
    "top_day_of_week = df.groupby('day_of_week')['order_id'].count().reindex(days_order, fill_value=0)\n",
    "top_day_of_week"
   ]
  },
  {
   "cell_type": "code",
   "execution_count": 15,
   "id": "9314e2f0",
   "metadata": {
    "execution": {
     "iopub.execute_input": "2025-06-06T12:40:39.598736Z",
     "iopub.status.busy": "2025-06-06T12:40:39.598444Z",
     "iopub.status.idle": "2025-06-06T12:40:39.813677Z",
     "shell.execute_reply": "2025-06-06T12:40:39.812647Z"
    },
    "papermill": {
     "duration": 0.228452,
     "end_time": "2025-06-06T12:40:39.815251",
     "exception": false,
     "start_time": "2025-06-06T12:40:39.586799",
     "status": "completed"
    },
    "tags": []
   },
   "outputs": [
    {
     "data": {
      "image/png": "[encoded data removed]",
      "text/plain": [
       "<Figure size 800x500 with 1 Axes>"
      ]
     },
     "metadata": {},
     "output_type": "display_data"
    }
   ],
   "source": [
    "bar_top_day_of_week = df.groupby('day_of_week')['order_id'].count().reset_index()\n",
    "bar_top_day_of_week = bar_top_day_of_week.rename(columns = {'order_id': 'count'})\n",
    "\n",
    "plt.figure(figsize=(8,5))\n",
    "\n",
    "sns.set_palette('pastel')\n",
    "\n",
    "sns.barplot(data = bar_top_day_of_week,\n",
    "            x = 'day_of_week',\n",
    "            y = 'count',\n",
    "            color = 'lightblue',\n",
    "            edgecolor = 'black'\n",
    "           )\n",
    "\n",
    "plt.title('Тепловая карта зависимости количества заказов от дня недели')\n",
    "plt.xlabel('День недели')\n",
    "plt.ylabel('Количество заказов')\n",
    "\n",
    "plt.grid(axis='y')\n",
    "\n",
    "plt.show()"
   ]
  },
  {
   "cell_type": "code",
   "execution_count": 16,
   "id": "fcb33eae",
   "metadata": {
    "execution": {
     "iopub.execute_input": "2025-06-06T12:40:39.838798Z",
     "iopub.status.busy": "2025-06-06T12:40:39.838111Z",
     "iopub.status.idle": "2025-06-06T12:40:40.084255Z",
     "shell.execute_reply": "2025-06-06T12:40:40.083306Z"
    },
    "papermill": {
     "duration": 0.259476,
     "end_time": "2025-06-06T12:40:40.085848",
     "exception": false,
     "start_time": "2025-06-06T12:40:39.826372",
     "status": "completed"
    },
    "tags": []
   },
   "outputs": [
    {
     "data": {
      "image/png": "[encoded data removed]",
      "text/plain": [
       "<Figure size 300x500 with 2 Axes>"
      ]
     },
     "metadata": {},
     "output_type": "display_data"
    }
   ],
   "source": [
    "top_day_of_week = top_day_of_week.values.reshape(-1, 1)\n",
    "plt.figure(figsize=(3,5))\n",
    "\n",
    "sns.heatmap(top_day_of_week, cmap='YlGnBu', annot=True, fmt='d')\n",
    "\n",
    "plt.title('Тепловая карта зависимости количества заказов от дня недели')\n",
    "plt.xlabel('Количество заказов')\n",
    "plt.ylabel('День недели')\n",
    "\n",
    "plt.show()"
   ]
  },
  {
   "cell_type": "markdown",
   "id": "e16d10ab",
   "metadata": {
    "execution": {
     "iopub.execute_input": "2025-06-03T18:39:11.787644Z",
     "iopub.status.busy": "2025-06-03T18:39:11.787342Z",
     "iopub.status.idle": "2025-06-03T18:39:11.792636Z",
     "shell.execute_reply": "2025-06-03T18:39:11.791574Z",
     "shell.execute_reply.started": "2025-06-03T18:39:11.787625Z"
    },
    "papermill": {
     "duration": 0.011563,
     "end_time": "2025-06-06T12:40:40.109513",
     "exception": false,
     "start_time": "2025-06-06T12:40:40.097950",
     "status": "completed"
    },
    "tags": []
   },
   "source": [
    "#### 4.3.2 Зависимость от времени заказа"
   ]
  },
  {
   "cell_type": "code",
   "execution_count": 17,
   "id": "2f712eb9",
   "metadata": {
    "execution": {
     "iopub.execute_input": "2025-06-06T12:40:40.135766Z",
     "iopub.status.busy": "2025-06-06T12:40:40.135082Z",
     "iopub.status.idle": "2025-06-06T12:40:40.151531Z",
     "shell.execute_reply": "2025-06-06T12:40:40.150698Z"
    },
    "papermill": {
     "duration": 0.03115,
     "end_time": "2025-06-06T12:40:40.153004",
     "exception": false,
     "start_time": "2025-06-06T12:40:40.121854",
     "status": "completed"
    },
    "tags": []
   },
   "outputs": [
    {
     "data": {
      "text/html": [
       "<div>\n",
       "<style scoped>\n",
       "    .dataframe tbody tr th:only-of-type {\n",
       "        vertical-align: middle;\n",
       "    }\n",
       "\n",
       "    .dataframe tbody tr th {\n",
       "        vertical-align: top;\n",
       "    }\n",
       "\n",
       "    .dataframe thead th {\n",
       "        text-align: right;\n",
       "    }\n",
       "</style>\n",
       "<table border=\"1\" class=\"dataframe\">\n",
       "  <thead>\n",
       "    <tr style=\"text-align: right;\">\n",
       "      <th></th>\n",
       "      <th>order_id</th>\n",
       "      <th>restaurant_name</th>\n",
       "      <th>location</th>\n",
       "      <th>order_time</th>\n",
       "      <th>delivery_time</th>\n",
       "      <th>delivery_duration</th>\n",
       "      <th>taco_size</th>\n",
       "      <th>taco_type</th>\n",
       "      <th>toppings_count</th>\n",
       "      <th>distance</th>\n",
       "      <th>price</th>\n",
       "      <th>tip</th>\n",
       "      <th>weekend_order</th>\n",
       "      <th>day_of_week</th>\n",
       "      <th>hour</th>\n",
       "    </tr>\n",
       "  </thead>\n",
       "  <tbody>\n",
       "    <tr>\n",
       "      <th>0</th>\n",
       "      <td>770487</td>\n",
       "      <td>El Taco Loco</td>\n",
       "      <td>New York</td>\n",
       "      <td>2024-08-01 14:55:00</td>\n",
       "      <td>2024-08-01 15:36:00</td>\n",
       "      <td>41</td>\n",
       "      <td>Regular</td>\n",
       "      <td>Chicken Taco</td>\n",
       "      <td>5</td>\n",
       "      <td>3.01</td>\n",
       "      <td>9.25</td>\n",
       "      <td>2.22</td>\n",
       "      <td>False</td>\n",
       "      <td>Thursday</td>\n",
       "      <td>14</td>\n",
       "    </tr>\n",
       "    <tr>\n",
       "      <th>1</th>\n",
       "      <td>671858</td>\n",
       "      <td>El Taco Loco</td>\n",
       "      <td>San Antonio</td>\n",
       "      <td>2024-11-23 17:11:00</td>\n",
       "      <td>2024-11-23 17:25:00</td>\n",
       "      <td>14</td>\n",
       "      <td>Regular</td>\n",
       "      <td>Beef Taco</td>\n",
       "      <td>1</td>\n",
       "      <td>6.20</td>\n",
       "      <td>4.25</td>\n",
       "      <td>3.01</td>\n",
       "      <td>True</td>\n",
       "      <td>Saturday</td>\n",
       "      <td>17</td>\n",
       "    </tr>\n",
       "    <tr>\n",
       "      <th>2</th>\n",
       "      <td>688508</td>\n",
       "      <td>Taco Haven</td>\n",
       "      <td>Austin</td>\n",
       "      <td>2024-11-21 20:24:00</td>\n",
       "      <td>2024-11-21 21:02:00</td>\n",
       "      <td>38</td>\n",
       "      <td>Large</td>\n",
       "      <td>Pork Taco</td>\n",
       "      <td>2</td>\n",
       "      <td>20.33</td>\n",
       "      <td>7.00</td>\n",
       "      <td>0.02</td>\n",
       "      <td>False</td>\n",
       "      <td>Thursday</td>\n",
       "      <td>20</td>\n",
       "    </tr>\n",
       "    <tr>\n",
       "      <th>3</th>\n",
       "      <td>944962</td>\n",
       "      <td>Spicy Taco House</td>\n",
       "      <td>Dallas</td>\n",
       "      <td>2024-09-21 06:43:00</td>\n",
       "      <td>2024-09-21 07:28:00</td>\n",
       "      <td>45</td>\n",
       "      <td>Regular</td>\n",
       "      <td>Chicken Taco</td>\n",
       "      <td>2</td>\n",
       "      <td>3.00</td>\n",
       "      <td>5.50</td>\n",
       "      <td>1.90</td>\n",
       "      <td>True</td>\n",
       "      <td>Saturday</td>\n",
       "      <td>6</td>\n",
       "    </tr>\n",
       "    <tr>\n",
       "      <th>4</th>\n",
       "      <td>476417</td>\n",
       "      <td>Casa del Taco</td>\n",
       "      <td>San Antonio</td>\n",
       "      <td>2024-07-24 11:01:00</td>\n",
       "      <td>2024-07-24 11:16:00</td>\n",
       "      <td>15</td>\n",
       "      <td>Large</td>\n",
       "      <td>Pork Taco</td>\n",
       "      <td>0</td>\n",
       "      <td>24.34</td>\n",
       "      <td>4.50</td>\n",
       "      <td>1.14</td>\n",
       "      <td>False</td>\n",
       "      <td>Wednesday</td>\n",
       "      <td>11</td>\n",
       "    </tr>\n",
       "  </tbody>\n",
       "</table>\n",
       "</div>"
      ],
      "text/plain": [
       "   order_id   restaurant_name     location          order_time  \\\n",
       "0    770487      El Taco Loco     New York 2024-08-01 14:55:00   \n",
       "1    671858      El Taco Loco  San Antonio 2024-11-23 17:11:00   \n",
       "2    688508        Taco Haven       Austin 2024-11-21 20:24:00   \n",
       "3    944962  Spicy Taco House       Dallas 2024-09-21 06:43:00   \n",
       "4    476417     Casa del Taco  San Antonio 2024-07-24 11:01:00   \n",
       "\n",
       "        delivery_time  delivery_duration taco_size     taco_type  \\\n",
       "0 2024-08-01 15:36:00                 41   Regular  Chicken Taco   \n",
       "1 2024-11-23 17:25:00                 14   Regular     Beef Taco   \n",
       "2 2024-11-21 21:02:00                 38     Large     Pork Taco   \n",
       "3 2024-09-21 07:28:00                 45   Regular  Chicken Taco   \n",
       "4 2024-07-24 11:16:00                 15     Large     Pork Taco   \n",
       "\n",
       "   toppings_count  distance  price   tip  weekend_order day_of_week  hour  \n",
       "0               5      3.01   9.25  2.22          False    Thursday    14  \n",
       "1               1      6.20   4.25  3.01           True    Saturday    17  \n",
       "2               2     20.33   7.00  0.02          False    Thursday    20  \n",
       "3               2      3.00   5.50  1.90           True    Saturday     6  \n",
       "4               0     24.34   4.50  1.14          False   Wednesday    11  "
      ]
     },
     "execution_count": 17,
     "metadata": {},
     "output_type": "execute_result"
    }
   ],
   "source": [
    "# добавим новый столбец с временем суток в датафрейм\n",
    "df['hour'] = df['order_time'].dt.hour\n",
    "df.head()"
   ]
  },
  {
   "cell_type": "code",
   "execution_count": 18,
   "id": "14155b79",
   "metadata": {
    "execution": {
     "iopub.execute_input": "2025-06-06T12:40:40.179473Z",
     "iopub.status.busy": "2025-06-06T12:40:40.179130Z",
     "iopub.status.idle": "2025-06-06T12:40:40.190993Z",
     "shell.execute_reply": "2025-06-06T12:40:40.190024Z"
    },
    "papermill": {
     "duration": 0.027055,
     "end_time": "2025-06-06T12:40:40.192576",
     "exception": false,
     "start_time": "2025-06-06T12:40:40.165521",
     "status": "completed"
    },
    "tags": []
   },
   "outputs": [
    {
     "data": {
      "text/html": [
       "<div>\n",
       "<style scoped>\n",
       "    .dataframe tbody tr th:only-of-type {\n",
       "        vertical-align: middle;\n",
       "    }\n",
       "\n",
       "    .dataframe tbody tr th {\n",
       "        vertical-align: top;\n",
       "    }\n",
       "\n",
       "    .dataframe thead th {\n",
       "        text-align: right;\n",
       "    }\n",
       "</style>\n",
       "<table border=\"1\" class=\"dataframe\">\n",
       "  <thead>\n",
       "    <tr style=\"text-align: right;\">\n",
       "      <th></th>\n",
       "      <th>hour</th>\n",
       "      <th>count</th>\n",
       "    </tr>\n",
       "  </thead>\n",
       "  <tbody>\n",
       "    <tr>\n",
       "      <th>0</th>\n",
       "      <td>0</td>\n",
       "      <td>41</td>\n",
       "    </tr>\n",
       "    <tr>\n",
       "      <th>1</th>\n",
       "      <td>1</td>\n",
       "      <td>42</td>\n",
       "    </tr>\n",
       "    <tr>\n",
       "      <th>2</th>\n",
       "      <td>2</td>\n",
       "      <td>48</td>\n",
       "    </tr>\n",
       "    <tr>\n",
       "      <th>3</th>\n",
       "      <td>3</td>\n",
       "      <td>38</td>\n",
       "    </tr>\n",
       "    <tr>\n",
       "      <th>4</th>\n",
       "      <td>4</td>\n",
       "      <td>52</td>\n",
       "    </tr>\n",
       "    <tr>\n",
       "      <th>5</th>\n",
       "      <td>5</td>\n",
       "      <td>50</td>\n",
       "    </tr>\n",
       "    <tr>\n",
       "      <th>6</th>\n",
       "      <td>6</td>\n",
       "      <td>34</td>\n",
       "    </tr>\n",
       "    <tr>\n",
       "      <th>7</th>\n",
       "      <td>7</td>\n",
       "      <td>45</td>\n",
       "    </tr>\n",
       "    <tr>\n",
       "      <th>8</th>\n",
       "      <td>8</td>\n",
       "      <td>37</td>\n",
       "    </tr>\n",
       "    <tr>\n",
       "      <th>9</th>\n",
       "      <td>9</td>\n",
       "      <td>40</td>\n",
       "    </tr>\n",
       "    <tr>\n",
       "      <th>10</th>\n",
       "      <td>10</td>\n",
       "      <td>46</td>\n",
       "    </tr>\n",
       "    <tr>\n",
       "      <th>11</th>\n",
       "      <td>11</td>\n",
       "      <td>36</td>\n",
       "    </tr>\n",
       "    <tr>\n",
       "      <th>12</th>\n",
       "      <td>12</td>\n",
       "      <td>41</td>\n",
       "    </tr>\n",
       "    <tr>\n",
       "      <th>13</th>\n",
       "      <td>13</td>\n",
       "      <td>38</td>\n",
       "    </tr>\n",
       "    <tr>\n",
       "      <th>14</th>\n",
       "      <td>14</td>\n",
       "      <td>40</td>\n",
       "    </tr>\n",
       "    <tr>\n",
       "      <th>15</th>\n",
       "      <td>15</td>\n",
       "      <td>39</td>\n",
       "    </tr>\n",
       "    <tr>\n",
       "      <th>16</th>\n",
       "      <td>16</td>\n",
       "      <td>45</td>\n",
       "    </tr>\n",
       "    <tr>\n",
       "      <th>17</th>\n",
       "      <td>17</td>\n",
       "      <td>43</td>\n",
       "    </tr>\n",
       "    <tr>\n",
       "      <th>18</th>\n",
       "      <td>18</td>\n",
       "      <td>47</td>\n",
       "    </tr>\n",
       "    <tr>\n",
       "      <th>19</th>\n",
       "      <td>19</td>\n",
       "      <td>35</td>\n",
       "    </tr>\n",
       "    <tr>\n",
       "      <th>20</th>\n",
       "      <td>20</td>\n",
       "      <td>39</td>\n",
       "    </tr>\n",
       "    <tr>\n",
       "      <th>21</th>\n",
       "      <td>21</td>\n",
       "      <td>45</td>\n",
       "    </tr>\n",
       "    <tr>\n",
       "      <th>22</th>\n",
       "      <td>22</td>\n",
       "      <td>39</td>\n",
       "    </tr>\n",
       "    <tr>\n",
       "      <th>23</th>\n",
       "      <td>23</td>\n",
       "      <td>40</td>\n",
       "    </tr>\n",
       "  </tbody>\n",
       "</table>\n",
       "</div>"
      ],
      "text/plain": [
       "    hour  count\n",
       "0      0     41\n",
       "1      1     42\n",
       "2      2     48\n",
       "3      3     38\n",
       "4      4     52\n",
       "5      5     50\n",
       "6      6     34\n",
       "7      7     45\n",
       "8      8     37\n",
       "9      9     40\n",
       "10    10     46\n",
       "11    11     36\n",
       "12    12     41\n",
       "13    13     38\n",
       "14    14     40\n",
       "15    15     39\n",
       "16    16     45\n",
       "17    17     43\n",
       "18    18     47\n",
       "19    19     35\n",
       "20    20     39\n",
       "21    21     45\n",
       "22    22     39\n",
       "23    23     40"
      ]
     },
     "execution_count": 18,
     "metadata": {},
     "output_type": "execute_result"
    }
   ],
   "source": [
    "top_time_of_day = df.groupby('hour')['order_id'].count().reset_index()\n",
    "top_time_of_day = top_time_of_day.rename(columns={'order_id': 'count'})\n",
    "top_time_of_day"
   ]
  },
  {
   "cell_type": "code",
   "execution_count": 19,
   "id": "57e7ebb4",
   "metadata": {
    "execution": {
     "iopub.execute_input": "2025-06-06T12:40:40.221441Z",
     "iopub.status.busy": "2025-06-06T12:40:40.221061Z",
     "iopub.status.idle": "2025-06-06T12:40:40.521258Z",
     "shell.execute_reply": "2025-06-06T12:40:40.520469Z"
    },
    "papermill": {
     "duration": 0.31583,
     "end_time": "2025-06-06T12:40:40.522810",
     "exception": false,
     "start_time": "2025-06-06T12:40:40.206980",
     "status": "completed"
    },
    "tags": []
   },
   "outputs": [
    {
     "data": {
      "image/png": "[encoded data removed]",
      "text/plain": [
       "<Figure size 900x500 with 1 Axes>"
      ]
     },
     "metadata": {},
     "output_type": "display_data"
    }
   ],
   "source": [
    "plt.figure(figsize=(9,5))\n",
    "\n",
    "sns.set_palette('pastel')\n",
    "\n",
    "sns.barplot(data = top_time_of_day,\n",
    "            x = 'hour',\n",
    "            y = 'count',\n",
    "            color = 'lightgreen',\n",
    "            edgecolor = 'black'\n",
    "           )\n",
    "\n",
    "plt.title('Зависимость количества заказов от времени суток')\n",
    "plt.xlabel('Час')\n",
    "plt.ylabel('Количество заказов')\n",
    "\n",
    "plt.grid(axis='y')\n",
    "\n",
    "plt.show()"
   ]
  },
  {
   "cell_type": "markdown",
   "id": "1ca2327d",
   "metadata": {
    "papermill": {
     "duration": 0.012574,
     "end_time": "2025-06-06T12:40:40.548572",
     "exception": false,
     "start_time": "2025-06-06T12:40:40.535998",
     "status": "completed"
    },
    "tags": []
   },
   "source": [
    "### 4.4 Вывод о зависимости количества заказов тако от дня недели и времени суток\n",
    "\n",
    "**от дня недели:**\n",
    "\n",
    "    Наибольшая активность наблюдается в понедельник (167 заказов). Высокая уровань активности продолжается до середены недели, после чего с четверга наблюдается спад. Данная тенденция, вероятно, связано с тем, что людям меньше хочется готовить в начале тяжелой рабочей недели, и заказы тако становятся удобным решением этой задачи.\n",
    "\n",
    "**от времени суток:**\n",
    "\n",
    "    - Пиковые часы:\n",
    "        4:00 (52 заказа)\n",
    "        18:00 (47 заказов)   \n",
    "    -Минимальная активность:\n",
    "        6:00 (34 заказа)\n",
    "        19:00 (35 заказов)\n",
    "    -Стабильные периоды:\n",
    "        С 10:00 до 16:00 и 21:00-23:00 количество заказов держится на уровне 35-46"
   ]
  },
  {
   "cell_type": "markdown",
   "id": "afde47cf",
   "metadata": {
    "papermill": {
     "duration": 0.01261,
     "end_time": "2025-06-06T12:40:40.573935",
     "exception": false,
     "start_time": "2025-06-06T12:40:40.561325",
     "status": "completed"
    },
    "tags": []
   },
   "source": [
    "## 5 Гипотезы"
   ]
  },
  {
   "cell_type": "code",
   "execution_count": 20,
   "id": "b9b67011",
   "metadata": {
    "execution": {
     "iopub.execute_input": "2025-06-06T12:40:40.601506Z",
     "iopub.status.busy": "2025-06-06T12:40:40.600696Z",
     "iopub.status.idle": "2025-06-06T12:40:40.605130Z",
     "shell.execute_reply": "2025-06-06T12:40:40.604223Z"
    },
    "papermill": {
     "duration": 0.02018,
     "end_time": "2025-06-06T12:40:40.606969",
     "exception": false,
     "start_time": "2025-06-06T12:40:40.586789",
     "status": "completed"
    },
    "tags": []
   },
   "outputs": [],
   "source": [
    "# уровень значимости\n",
    "alpha = 0.05"
   ]
  },
  {
   "cell_type": "markdown",
   "id": "6780cd38",
   "metadata": {
    "papermill": {
     "duration": 0.012829,
     "end_time": "2025-06-06T12:40:40.632838",
     "exception": false,
     "start_time": "2025-06-06T12:40:40.620009",
     "status": "completed"
    },
    "tags": []
   },
   "source": [
    "### 5.1 Влияние расстояния на время доставки\n",
    "\n",
    "**H0:** Расстояние (distance) не коррелирует со временем доставки (delivery_duration)\n",
    "\n",
    "**H1:** Существует положительная корреляция."
   ]
  },
  {
   "cell_type": "markdown",
   "id": "08eed85a",
   "metadata": {
    "papermill": {
     "duration": 0.012513,
     "end_time": "2025-06-06T12:40:40.658277",
     "exception": false,
     "start_time": "2025-06-06T12:40:40.645764",
     "status": "completed"
    },
    "tags": []
   },
   "source": [
    "### 5.2 Влияния времени доставки на размер чаевых\n",
    "\n",
    "**H0:** Время доставки (delivery_duration) не влияет на размер чаевых (tip).\n",
    "\n",
    "**H1:** При более долгой доставке чаевые снижаются."
   ]
  },
  {
   "cell_type": "markdown",
   "id": "4d55d147",
   "metadata": {
    "papermill": {
     "duration": 0.013205,
     "end_time": "2025-06-06T12:40:40.684275",
     "exception": false,
     "start_time": "2025-06-06T12:40:40.671070",
     "status": "completed"
    },
    "tags": []
   },
   "source": [
    "### 5.3 Различие чаевых в будни и выходные\n",
    "\n",
    "**H0:** Размер чаевых в будни и выходные не различается. mu1 = mu2\n",
    " \n",
    "**H1:** В выходные дни чаевые выше, чем в будни. mu1 < mu2"
   ]
  },
  {
   "cell_type": "markdown",
   "id": "57e8e715",
   "metadata": {
    "papermill": {
     "duration": 0.013002,
     "end_time": "2025-06-06T12:40:40.711376",
     "exception": false,
     "start_time": "2025-06-06T12:40:40.698374",
     "status": "completed"
    },
    "tags": []
   },
   "source": [
    "### 5.4 Разница в количестве заказов стандартных порций тако и больших \n",
    "\n",
    "**H0:** Стандартный размер тако заказывают также часто, как и большой. mu1 = mu2\n",
    "\n",
    "**H1:** Есть статистически значимая разница в количестве заказов тако больших и стандартных размеров. mu1 ≠ mu2"
   ]
  },
  {
   "cell_type": "markdown",
   "id": "7e34e702",
   "metadata": {
    "execution": {
     "iopub.execute_input": "2025-06-04T15:52:00.600560Z",
     "iopub.status.busy": "2025-06-04T15:52:00.600110Z",
     "iopub.status.idle": "2025-06-04T15:52:00.605180Z",
     "shell.execute_reply": "2025-06-04T15:52:00.604134Z",
     "shell.execute_reply.started": "2025-06-04T15:52:00.600529Z"
    },
    "papermill": {
     "duration": 0.013048,
     "end_time": "2025-06-06T12:40:40.738279",
     "exception": false,
     "start_time": "2025-06-06T12:40:40.725231",
     "status": "completed"
    },
    "tags": []
   },
   "source": [
    "## 6 Проверка гипотез"
   ]
  },
  {
   "cell_type": "markdown",
   "id": "309f0ff1",
   "metadata": {
    "execution": {
     "iopub.execute_input": "2025-06-03T21:13:37.736502Z",
     "iopub.status.busy": "2025-06-03T21:13:37.736191Z",
     "iopub.status.idle": "2025-06-03T21:13:37.740826Z",
     "shell.execute_reply": "2025-06-03T21:13:37.739906Z",
     "shell.execute_reply.started": "2025-06-03T21:13:37.736480Z"
    },
    "papermill": {
     "duration": 0.013164,
     "end_time": "2025-06-06T12:40:40.764829",
     "exception": false,
     "start_time": "2025-06-06T12:40:40.751665",
     "status": "completed"
    },
    "tags": []
   },
   "source": [
    "### 6.1 Влияние расстояния на время доставки\n",
    "H0: Расстояние (distance) не коррелирует со временем доставки (delivery_duration)\n",
    "\n",
    "H1: Существует положительная корреляция."
   ]
  },
  {
   "cell_type": "code",
   "execution_count": 21,
   "id": "24861149",
   "metadata": {
    "execution": {
     "iopub.execute_input": "2025-06-06T12:40:40.793950Z",
     "iopub.status.busy": "2025-06-06T12:40:40.793630Z",
     "iopub.status.idle": "2025-06-06T12:40:40.801574Z",
     "shell.execute_reply": "2025-06-06T12:40:40.800637Z"
    },
    "papermill": {
     "duration": 0.024041,
     "end_time": "2025-06-06T12:40:40.803192",
     "exception": false,
     "start_time": "2025-06-06T12:40:40.779151",
     "status": "completed"
    },
    "tags": []
   },
   "outputs": [
    {
     "name": "stdout",
     "output_type": "stream",
     "text": [
      "Коэффициент корреляции Пирсона: -0.05555839171705946, p-value: 0.07907651268027377\n"
     ]
    }
   ],
   "source": [
    "correlation, p_value = stats.pearsonr(df['distance'], df['delivery_duration'])\n",
    "print(f\"Коэффициент корреляции Пирсона: {correlation}, p-value: {p_value}\")"
   ]
  },
  {
   "cell_type": "code",
   "execution_count": 22,
   "id": "28fbfcaa",
   "metadata": {
    "execution": {
     "iopub.execute_input": "2025-06-06T12:40:40.831538Z",
     "iopub.status.busy": "2025-06-06T12:40:40.831196Z",
     "iopub.status.idle": "2025-06-06T12:40:41.082488Z",
     "shell.execute_reply": "2025-06-06T12:40:41.081381Z"
    },
    "papermill": {
     "duration": 0.268332,
     "end_time": "2025-06-06T12:40:41.085003",
     "exception": false,
     "start_time": "2025-06-06T12:40:40.816671",
     "status": "completed"
    },
    "tags": []
   },
   "outputs": [
    {
     "data": {
      "image/png": "[encoded data removed]",
      "text/plain": [
       "<Figure size 1000x600 with 1 Axes>"
      ]
     },
     "metadata": {},
     "output_type": "display_data"
    }
   ],
   "source": [
    "plt.figure(figsize=(10, 6))\n",
    "\n",
    "sns.set_palette('pastel')\n",
    "\n",
    "sns.scatterplot(\n",
    "    data=df,\n",
    "    x='distance',\n",
    "    y='delivery_duration',\n",
    "    alpha=0.6,\n",
    "    color='orange'\n",
    ")\n",
    "\n",
    "plt.title('Зависимость времени доставки от расстояния')\n",
    "plt.xlabel('Расстояние (км)')\n",
    "plt.ylabel('Время доставки (мин)')\n",
    "\n",
    "plt.grid()\n",
    "\n",
    "plt.show()"
   ]
  },
  {
   "cell_type": "markdown",
   "id": "72b86f41",
   "metadata": {
    "papermill": {
     "duration": 0.014379,
     "end_time": "2025-06-06T12:40:41.114922",
     "exception": false,
     "start_time": "2025-06-06T12:40:41.100543",
     "status": "completed"
    },
    "tags": []
   },
   "source": [
    "### 6.2 Вывод о зависимости времени доставки и расстоянии\n",
    "\n",
    "H0 не отвергается: нет оснований предполагать, что расстояние коррелирует с временем достаки(p-value: 0.079, Коэффициент корреляции Пирсона: -0.056). Данный вывод подтверждает график рассеяния."
   ]
  },
  {
   "cell_type": "markdown",
   "id": "544b8ac2",
   "metadata": {
    "papermill": {
     "duration": 0.014069,
     "end_time": "2025-06-06T12:40:41.143847",
     "exception": false,
     "start_time": "2025-06-06T12:40:41.129778",
     "status": "completed"
    },
    "tags": []
   },
   "source": [
    "### 6.3 Изучение влияния времени доставки на размер чаевых\n",
    "H0: Время доставки (delivery_duration) не влияет на размер чаевых (tip).\n",
    "\n",
    "H1: При более долгой доставке чаевые снижаются."
   ]
  },
  {
   "cell_type": "code",
   "execution_count": 23,
   "id": "733969d2",
   "metadata": {
    "execution": {
     "iopub.execute_input": "2025-06-06T12:40:41.174899Z",
     "iopub.status.busy": "2025-06-06T12:40:41.173760Z",
     "iopub.status.idle": "2025-06-06T12:40:41.181020Z",
     "shell.execute_reply": "2025-06-06T12:40:41.180186Z"
    },
    "papermill": {
     "duration": 0.024384,
     "end_time": "2025-06-06T12:40:41.182843",
     "exception": false,
     "start_time": "2025-06-06T12:40:41.158459",
     "status": "completed"
    },
    "tags": []
   },
   "outputs": [
    {
     "name": "stdout",
     "output_type": "stream",
     "text": [
      "Коэффициент корреляции Пирсона: -0.017751282912226978, p-value: 0.5750109677897971\n"
     ]
    }
   ],
   "source": [
    "correlation, p_value = stats.pearsonr(df['tip'], df['delivery_duration'])\n",
    "print(f\"Коэффициент корреляции Пирсона: {correlation}, p-value: {p_value}\")"
   ]
  },
  {
   "cell_type": "code",
   "execution_count": 24,
   "id": "a981e09e",
   "metadata": {
    "execution": {
     "iopub.execute_input": "2025-06-06T12:40:41.212985Z",
     "iopub.status.busy": "2025-06-06T12:40:41.212688Z",
     "iopub.status.idle": "2025-06-06T12:40:41.441363Z",
     "shell.execute_reply": "2025-06-06T12:40:41.440186Z"
    },
    "papermill": {
     "duration": 0.245298,
     "end_time": "2025-06-06T12:40:41.442914",
     "exception": false,
     "start_time": "2025-06-06T12:40:41.197616",
     "status": "completed"
    },
    "tags": []
   },
   "outputs": [
    {
     "data": {
      "image/png": "[encoded data removed]",
      "text/plain": [
       "<Figure size 1000x600 with 1 Axes>"
      ]
     },
     "metadata": {},
     "output_type": "display_data"
    }
   ],
   "source": [
    "plt.figure(figsize=(10, 6))\n",
    "\n",
    "sns.set_palette('pastel')\n",
    "\n",
    "sns.scatterplot(\n",
    "    data=df,\n",
    "    x='delivery_duration',\n",
    "    y='tip',\n",
    "    alpha=0.6,\n",
    "    color='orange'\n",
    ")\n",
    "\n",
    "plt.title('Зависимость чаевых от времени доставки')\n",
    "plt.xlabel('Время доставки (мин)')\n",
    "plt.ylabel('Размер чаевых')\n",
    "\n",
    "plt.grid()\n",
    "\n",
    "plt.show()"
   ]
  },
  {
   "cell_type": "markdown",
   "id": "cda81cb3",
   "metadata": {
    "papermill": {
     "duration": 0.015695,
     "end_time": "2025-06-06T12:40:41.475363",
     "exception": false,
     "start_time": "2025-06-06T12:40:41.459668",
     "status": "completed"
    },
    "tags": []
   },
   "source": [
    "### 6.4 Вывод о влиянии времени доставки на размер чаевых\n",
    "\n",
    "H0 не отвергается: нет оснований предполагать, что размер чаевых коррелирует с временем достаки(p-value: 0.575, Коэффициент корреляции Пирсона: -0.018). Данный вывод подтверждает график рассеяния."
   ]
  },
  {
   "cell_type": "markdown",
   "id": "9a983381",
   "metadata": {
    "execution": {
     "iopub.execute_input": "2025-06-04T16:11:33.093444Z",
     "iopub.status.busy": "2025-06-04T16:11:33.093002Z",
     "iopub.status.idle": "2025-06-04T16:11:33.099607Z",
     "shell.execute_reply": "2025-06-04T16:11:33.098394Z",
     "shell.execute_reply.started": "2025-06-04T16:11:33.093415Z"
    },
    "papermill": {
     "duration": 0.015717,
     "end_time": "2025-06-06T12:40:41.506694",
     "exception": false,
     "start_time": "2025-06-06T12:40:41.490977",
     "status": "completed"
    },
    "tags": []
   },
   "source": [
    "### 6.5 Различие чаевых в будни и выходные\n",
    "H0: Размер чаевых в выходные и будни не различается. mu1 = mu2\n",
    "\n",
    "H1: В выходные дни чаевые выше, чем в будни. mu1 > mu2"
   ]
  },
  {
   "cell_type": "code",
   "execution_count": 25,
   "id": "b0e11d86",
   "metadata": {
    "execution": {
     "iopub.execute_input": "2025-06-06T12:40:41.540723Z",
     "iopub.status.busy": "2025-06-06T12:40:41.539661Z",
     "iopub.status.idle": "2025-06-06T12:40:41.555530Z",
     "shell.execute_reply": "2025-06-06T12:40:41.554525Z"
    },
    "papermill": {
     "duration": 0.034917,
     "end_time": "2025-06-06T12:40:41.557103",
     "exception": false,
     "start_time": "2025-06-06T12:40:41.522186",
     "status": "completed"
    },
    "tags": []
   },
   "outputs": [
    {
     "name": "stdout",
     "output_type": "stream",
     "text": [
      "t-статистика: 13.885377256661187, p-value: 1.6453981264761625e-40\n"
     ]
    }
   ],
   "source": [
    "weekend_tip = df[df['weekend_order'] == True]['tip']\n",
    "weekday_tip = df[df['weekend_order'] == False]['tip']\n",
    "\n",
    "t_stat, p_value = stats.ttest_ind(weekend_tip, weekday_tip, alternative='greater')\n",
    "print(f\"t-статистика: {t_stat}, p-value: {p_value}\")"
   ]
  },
  {
   "cell_type": "code",
   "execution_count": 26,
   "id": "8fdeebff",
   "metadata": {
    "execution": {
     "iopub.execute_input": "2025-06-06T12:40:41.589628Z",
     "iopub.status.busy": "2025-06-06T12:40:41.589297Z",
     "iopub.status.idle": "2025-06-06T12:40:41.596117Z",
     "shell.execute_reply": "2025-06-06T12:40:41.595261Z"
    },
    "papermill": {
     "duration": 0.025149,
     "end_time": "2025-06-06T12:40:41.597714",
     "exception": false,
     "start_time": "2025-06-06T12:40:41.572565",
     "status": "completed"
    },
    "tags": []
   },
   "outputs": [
    {
     "name": "stdout",
     "output_type": "stream",
     "text": [
      "Средние чаевые в выходные: 2.55\n",
      "Средние чаевые в будни: 1.53\n",
      "Разница: 1.02 (66.8%)\n"
     ]
    }
   ],
   "source": [
    "weekend_mean = weekend_tip.mean()\n",
    "weekday_mean = weekday_tip.mean()\n",
    "difference = weekend_mean - weekday_mean\n",
    "difference_percent = difference / weekday_mean * 100\n",
    "\n",
    "print(f\"Средние чаевые в выходные: {weekend_mean:.2f}\")\n",
    "print(f\"Средние чаевые в будни: {weekday_mean:.2f}\")\n",
    "print(f\"Разница: {difference:.2f} ({difference_percent:.1f}%)\")"
   ]
  },
  {
   "cell_type": "markdown",
   "id": "b3ed472e",
   "metadata": {
    "papermill": {
     "duration": 0.015706,
     "end_time": "2025-06-06T12:40:41.628999",
     "exception": false,
     "start_time": "2025-06-06T12:40:41.613293",
     "status": "completed"
    },
    "tags": []
   },
   "source": [
    "### 6.6 Вывод о различие чаевых в будни и выходные\n",
    "\n",
    "H0 отвергается и принимается альтернативная гипотеза H1: чаевые в выходные выше, чем в будни (t-статистика: 13.89, p-value: 1.65e-40). В среднем прирост чаевых составляет 66.8% (+1.02 $)"
   ]
  },
  {
   "cell_type": "markdown",
   "id": "277aa964",
   "metadata": {
    "papermill": {
     "duration": 0.015683,
     "end_time": "2025-06-06T12:40:41.660505",
     "exception": false,
     "start_time": "2025-06-06T12:40:41.644822",
     "status": "completed"
    },
    "tags": []
   },
   "source": [
    "### 6.7 Разница в количестве заказов стандартных порций тако и больших\n",
    "H0: Стандартный размер тако заказывают также часто, как и большой. mu1 = mu2\n",
    "\n",
    "H1: Есть статистически значимая разница в количестве заказов тако больших и стандартных размеров. mu1 ≠ mu2"
   ]
  },
  {
   "cell_type": "code",
   "execution_count": 27,
   "id": "8dd3214e",
   "metadata": {
    "execution": {
     "iopub.execute_input": "2025-06-06T12:40:41.693280Z",
     "iopub.status.busy": "2025-06-06T12:40:41.692825Z",
     "iopub.status.idle": "2025-06-06T12:40:41.704753Z",
     "shell.execute_reply": "2025-06-06T12:40:41.703862Z"
    },
    "papermill": {
     "duration": 0.03068,
     "end_time": "2025-06-06T12:40:41.706668",
     "exception": false,
     "start_time": "2025-06-06T12:40:41.675988",
     "status": "completed"
    },
    "tags": []
   },
   "outputs": [
    {
     "name": "stdout",
     "output_type": "stream",
     "text": [
      "z-статистика: 0.17888543819998334, p-value: 0.858027656987521\n"
     ]
    }
   ],
   "source": [
    "large = len(df[df['taco_size'] == 'Large'])\n",
    "standart = len(df[df['taco_size'] == 'Regular'])\n",
    "\n",
    "count = [standart, large]\n",
    "lens = [large + standart, large + standart]\n",
    "\n",
    "z_stat, p_value = st.proportions_ztest(count, lens)\n",
    "print(f\"z-статистика: {z_stat}, p-value: {p_value}\")"
   ]
  },
  {
   "cell_type": "markdown",
   "id": "cecc5ae1",
   "metadata": {
    "papermill": {
     "duration": 0.015497,
     "end_time": "2025-06-06T12:40:41.737772",
     "exception": false,
     "start_time": "2025-06-06T12:40:41.722275",
     "status": "completed"
    },
    "tags": []
   },
   "source": [
    "### 6.8 Вывод о различие количества заказов стандартных и больших порций \n",
    "H0 не отвергается: нет оснований предполагать, что какой-то из размеров тако заказывают чаще другого(p-value: 0.858, z-статистика: 0.179). "
   ]
  },
  {
   "cell_type": "markdown",
   "id": "7934f894",
   "metadata": {
    "execution": {
     "iopub.execute_input": "2025-06-04T17:21:53.197098Z",
     "iopub.status.busy": "2025-06-04T17:21:53.195087Z",
     "iopub.status.idle": "2025-06-04T17:21:53.201488Z",
     "shell.execute_reply": "2025-06-04T17:21:53.200428Z",
     "shell.execute_reply.started": "2025-06-04T17:21:53.197050Z"
    },
    "papermill": {
     "duration": 0.015479,
     "end_time": "2025-06-06T12:40:41.768630",
     "exception": false,
     "start_time": "2025-06-06T12:40:41.753151",
     "status": "completed"
    },
    "tags": []
   },
   "source": [
    "## 7 Общий вывывод и рекомендации "
   ]
  },
  {
   "cell_type": "markdown",
   "id": "6fda1199",
   "metadata": {
    "papermill": {
     "duration": 0.015856,
     "end_time": "2025-06-06T12:40:41.801380",
     "exception": false,
     "start_time": "2025-06-06T12:40:41.785524",
     "status": "completed"
    },
    "tags": []
   },
   "source": [
    "### 7.1 Выводы по результату исследовательского анализу:\n",
    "\n",
    "1) Популярность видов тако\n",
    "\n",
    "- Наибольшим спросом пользуются куриные тако (21.8%), незначительно опережая рыбные (21.1%).\n",
    "- Говяжьи тако наименее востребованы (18.2%).\n",
    "\n",
    "2) Временные паттерны заказов:\n",
    "\n",
    "- Дни недели: Пик заказов приходится на понедельник (167 заказов), спад — на четверг-пятницу.\n",
    "- Время суток: Максимальная активность в 4:00 (52 заказа) и 18:00 (47 заказов), минимум — в 6:00 (34 заказа).\n"
   ]
  },
  {
   "cell_type": "markdown",
   "id": "83037c4d",
   "metadata": {
    "papermill": {
     "duration": 0.015554,
     "end_time": "2025-06-06T12:40:41.832387",
     "exception": false,
     "start_time": "2025-06-06T12:40:41.816833",
     "status": "completed"
    },
    "tags": []
   },
   "source": [
    "### 7.2 Выводы по результатам проверки гипотез:\n",
    "\n",
    "1) Расстояние и время доставки:\n",
    "- Корреляция незначима (p-value: 0.079, Коэффициент корреляции Пирсона: -0.056).\n",
    "- Рекомендация: исследовать другие факторы, которые влияют на время доставки (время готовки, погодные условия).\n",
    "\n",
    "2) Чаевые и время доставки:\n",
    "- Связь отсутствует (p-value: 0.575, Коэффициент корреляции Пирсона: -0.018).\n",
    "- Инсайт: лояльность клиентов к курьерам созраняется, независимо от времени доставки.\n",
    "\n",
    "3) Чаевые в выходные vs будни:\n",
    "- Разница значима (t-статистика: 13.89, p-value: 1.65e-40). В среднем прирост чаевых составляет 66.8% (+1.02 $).\n",
    "- Действие: увеличть бонусы для курьеров, чтобы замотивировать работать в будние дни.\n",
    "\n",
    "4) Разница в заказах больших и стандартных порций:\n",
    "- Стандартные порции заказывают также часто, как и большие (p-value: 0.858, z-статистика: 0.179).\n",
    "- Вывод: Можно уравнять маркетинговые усилия для обоих размеров.\n",
    "\n"
   ]
  },
  {
   "cell_type": "markdown",
   "id": "455989e0",
   "metadata": {
    "execution": {
     "iopub.execute_input": "2025-06-04T17:39:11.042008Z",
     "iopub.status.busy": "2025-06-04T17:39:11.041520Z",
     "iopub.status.idle": "2025-06-04T17:39:11.046686Z",
     "shell.execute_reply": "2025-06-04T17:39:11.045610Z",
     "shell.execute_reply.started": "2025-06-04T17:39:11.041973Z"
    },
    "papermill": {
     "duration": 0.015591,
     "end_time": "2025-06-06T12:40:41.864110",
     "exception": false,
     "start_time": "2025-06-06T12:40:41.848519",
     "status": "completed"
    },
    "tags": []
   },
   "source": [
    "### 7.3 Рекомендации\n",
    "\n",
    "- Внедрить программу лояльности для людей, заказывающих в конце рабочей недели.\n",
    "- Акции на говяжьи тако для повышения их популярности.\n",
    "- Гибкий график курьеров в выходные (из-за высоких чаевых).\n",
    "- Мониторить причины долгой доставки, не связанные с расстоянием."
   ]
  }
 ],
 "metadata": {
  "kaggle": {
   "accelerator": "none",
   "dataSources": [
    {
     "datasetId": 7507392,
     "sourceId": 11941997,
     "sourceType": "datasetVersion"
    }
   ],
   "dockerImageVersionId": 31040,
   "isGpuEnabled": false,
   "isInternetEnabled": false,
   "language": "python",
   "sourceType": "notebook"
  },
  "kernelspec": {
   "display_name": "Python 3",
   "language": "python",
   "name": "python3"
  },
  "language_info": {
   "codemirror_mode": {
    "name": "ipython",
    "version": 3
   },
   "file_extension": ".py",
   "mimetype": "text/x-python",
   "name": "python",
   "nbconvert_exporter": "python",
   "pygments_lexer": "ipython3",
   "version": "3.11.11"
  },
  "papermill": {
   "default_parameters": {},
   "duration": 13.832895,
   "end_time": "2025-06-06T12:40:42.601269",
   "environment_variables": {},
   "exception": null,
   "input_path": "__notebook__.ipynb",
   "output_path": "__notebook__.ipynb",
   "parameters": {},
   "start_time": "2025-06-06T12:40:28.768374",
   "version": "2.6.0"
  }
 },
 "nbformat": 4,
 "nbformat_minor": 5
}
